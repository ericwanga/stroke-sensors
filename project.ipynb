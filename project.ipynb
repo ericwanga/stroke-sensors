{
 "cells": [
  {
   "cell_type": "markdown",
   "id": "4fa2689e",
   "metadata": {},
   "source": []
  },
  {
   "cell_type": "markdown",
   "id": "20037268",
   "metadata": {},
   "source": []
  },
  {
   "cell_type": "markdown",
   "id": "ec083865",
   "metadata": {},
   "source": [
    "# import"
   ]
  },
  {
   "cell_type": "code",
   "execution_count": 490,
   "id": "ccca968e",
   "metadata": {},
   "outputs": [],
   "source": [
    "# !pip install opencv-python"
   ]
  },
  {
   "cell_type": "code",
   "execution_count": 449,
   "id": "124e543a",
   "metadata": {},
   "outputs": [],
   "source": [
    "# import scipy.io as sio\n",
    "from skimage import io\n",
    "\n",
    "import random\n",
    "import os\n",
    "import math\n",
    "import numpy as np\n",
    "import pandas as pd\n",
    "import matplotlib.pyplot as plt\n",
    "import gc\n",
    "\n",
    "import torch, torchvision\n",
    "from torch import nn\n",
    "from torchvision import transforms\n",
    "from torchinfo import summary\n",
    "from torch.utils.data import Dataset, DataLoader, TensorDataset # package x and y\n",
    "import torch.optim as optim\n",
    "\n",
    "from sklearn.model_selection import train_test_split as TTS\n",
    "from sklearn.preprocessing import PolynomialFeatures as PF\n",
    "from sklearn.linear_model import LogisticRegression as LR\n",
    "from sklearn.preprocessing import LabelEncoder as LE\n",
    "\n",
    "import cv2 # image processing"
   ]
  },
  {
   "cell_type": "code",
   "execution_count": null,
   "id": "e14798fd",
   "metadata": {},
   "outputs": [],
   "source": []
  },
  {
   "cell_type": "code",
   "execution_count": 1002,
   "id": "d63a0c5e",
   "metadata": {},
   "outputs": [
    {
     "data": {
      "text/plain": [
       "True"
      ]
     },
     "execution_count": 1002,
     "metadata": {},
     "output_type": "execute_result"
    }
   ],
   "source": [
    "# check GPU\n",
    "torch.cuda.is_available()"
   ]
  },
  {
   "cell_type": "code",
   "execution_count": 1210,
   "id": "516481a4",
   "metadata": {},
   "outputs": [
    {
     "name": "stdout",
     "output_type": "stream",
     "text": [
      "2177536\n",
      "473956352\n",
      "468624384\n"
     ]
    }
   ],
   "source": [
    "print(torch.cuda.memory_allocated()) # tensor memory occupy (current)\n",
    "print(torch.cuda.memory_reserved()) # all memory occupied by cache (current)\n",
    "print(torch.cuda.max_memory_allocated()) # max memory occupied by tensor since run (max)"
   ]
  },
  {
   "cell_type": "code",
   "execution_count": 386,
   "id": "6fede889",
   "metadata": {},
   "outputs": [
    {
     "data": {
      "text/plain": [
       "(10, 1, 34, 34)"
      ]
     },
     "execution_count": 386,
     "metadata": {},
     "output_type": "execute_result"
    }
   ],
   "source": [
    "# example\n",
    "example = np.random.randint(0,255,(10,1156))\n",
    "example = example.reshape(10,1,34,34) # can use reshape directly to 4d\n",
    "example.shape"
   ]
  },
  {
   "cell_type": "code",
   "execution_count": 401,
   "id": "2be3f3b5",
   "metadata": {},
   "outputs": [
    {
     "data": {
      "text/plain": [
       "array([[[165, 150, 173, ...,  13,  53, 151],\n",
       "        [157, 132, 243, ...,  62, 217, 125],\n",
       "        [ 79, 223, 180, ..., 220, 148, 235],\n",
       "        ...,\n",
       "        [ 26,  32, 191, ..., 104, 217, 213],\n",
       "        [ 52,  86, 161, ..., 114, 118, 176],\n",
       "        [ 13,  74, 240, ..., 132, 179,  45]]])"
      ]
     },
     "execution_count": 401,
     "metadata": {},
     "output_type": "execute_result"
    }
   ],
   "source": [
    "example[0]"
   ]
  },
  {
   "cell_type": "code",
   "execution_count": 387,
   "id": "f1e58949",
   "metadata": {},
   "outputs": [
    {
     "data": {
      "text/plain": [
       "numpy.ndarray"
      ]
     },
     "execution_count": 387,
     "metadata": {},
     "output_type": "execute_result"
    }
   ],
   "source": [
    "type(example)"
   ]
  },
  {
   "cell_type": "code",
   "execution_count": 390,
   "id": "9dd01e25",
   "metadata": {},
   "outputs": [
    {
     "name": "stdout",
     "output_type": "stream",
     "text": [
      "torch.Size([10, 1, 34, 34])\n"
     ]
    },
    {
     "data": {
      "text/plain": [
       "<matplotlib.image.AxesImage at 0x193565c7820>"
      ]
     },
     "execution_count": 390,
     "metadata": {},
     "output_type": "execute_result"
    },
    {
     "data": {
      "image/png": "[encoded data removed]",
      "text/plain": [
       "<Figure size 640x480 with 1 Axes>"
      ]
     },
     "metadata": {},
     "output_type": "display_data"
    }
   ],
   "source": [
    "# example to tensor\n",
    "example_tensor = torch.tensor(example)\n",
    "print(example_tensor.shape)\n",
    "plt.imshow(example_tensor.view(-1,34,34,1)[6]) # plt requires channel 1 to the last"
   ]
  },
  {
   "cell_type": "markdown",
   "id": "109ec0f2",
   "metadata": {},
   "source": [
    "# load datasets\n",
    "\n",
    "## XY"
   ]
  },
  {
   "cell_type": "code",
   "execution_count": 8,
   "id": "0fdfe48a",
   "metadata": {},
   "outputs": [],
   "source": [
    "# load X\n",
    "data = pd.read_csv(r'dataset\\participant_1152\\XY1152.csv')\n",
    "data = data.drop(data.columns[0], axis=1)"
   ]
  },
  {
   "cell_type": "code",
   "execution_count": 9,
   "id": "a43c7b73",
   "metadata": {},
   "outputs": [
    {
     "data": {
      "text/plain": [
       "(53444, 1153)"
      ]
     },
     "execution_count": 9,
     "metadata": {},
     "output_type": "execute_result"
    }
   ],
   "source": [
    "data.shape"
   ]
  },
  {
   "cell_type": "code",
   "execution_count": 10,
   "id": "de22fe8e",
   "metadata": {},
   "outputs": [
    {
     "data": {
      "text/html": [
       "<div>\n",
       "<style scoped>\n",
       "    .dataframe tbody tr th:only-of-type {\n",
       "        vertical-align: middle;\n",
       "    }\n",
       "\n",
       "    .dataframe tbody tr th {\n",
       "        vertical-align: top;\n",
       "    }\n",
       "\n",
       "    .dataframe thead th {\n",
       "        text-align: right;\n",
       "    }\n",
       "</style>\n",
       "<table border=\"1\" class=\"dataframe\">\n",
       "  <thead>\n",
       "    <tr style=\"text-align: right;\">\n",
       "      <th></th>\n",
       "      <th>id</th>\n",
       "      <th>s1.X1_mv1</th>\n",
       "      <th>s1.X1_mv2</th>\n",
       "      <th>s1.X1_mv3</th>\n",
       "      <th>s1.X2_mv1</th>\n",
       "      <th>s1.X2_mv2</th>\n",
       "      <th>s1.X2_mv3</th>\n",
       "      <th>s1.X3_mv1</th>\n",
       "      <th>s1.X3_mv2</th>\n",
       "      <th>s1.X3_mv3</th>\n",
       "      <th>...</th>\n",
       "      <th>s6.X61_mv3</th>\n",
       "      <th>s6.X62_mv1</th>\n",
       "      <th>s6.X62_mv2</th>\n",
       "      <th>s6.X62_mv3</th>\n",
       "      <th>s6.X63_mv1</th>\n",
       "      <th>s6.X63_mv2</th>\n",
       "      <th>s6.X63_mv3</th>\n",
       "      <th>s6.X64_mv1</th>\n",
       "      <th>s6.X64_mv2</th>\n",
       "      <th>s6.X64_mv3</th>\n",
       "    </tr>\n",
       "  </thead>\n",
       "  <tbody>\n",
       "    <tr>\n",
       "      <th>0</th>\n",
       "      <td>amuse.p1.1</td>\n",
       "      <td>35.25</td>\n",
       "      <td>35.50</td>\n",
       "      <td>35.75</td>\n",
       "      <td>36.00</td>\n",
       "      <td>35.25</td>\n",
       "      <td>35.75</td>\n",
       "      <td>35.50</td>\n",
       "      <td>35.75</td>\n",
       "      <td>35.50</td>\n",
       "      <td>...</td>\n",
       "      <td>32.75</td>\n",
       "      <td>32.75</td>\n",
       "      <td>33.00</td>\n",
       "      <td>33.00</td>\n",
       "      <td>33.50</td>\n",
       "      <td>33.50</td>\n",
       "      <td>33.25</td>\n",
       "      <td>33.75</td>\n",
       "      <td>33.50</td>\n",
       "      <td>33.25</td>\n",
       "    </tr>\n",
       "    <tr>\n",
       "      <th>1</th>\n",
       "      <td>amuse.p1.1000</td>\n",
       "      <td>35.75</td>\n",
       "      <td>35.75</td>\n",
       "      <td>36.25</td>\n",
       "      <td>35.50</td>\n",
       "      <td>36.00</td>\n",
       "      <td>35.75</td>\n",
       "      <td>35.25</td>\n",
       "      <td>35.50</td>\n",
       "      <td>36.00</td>\n",
       "      <td>...</td>\n",
       "      <td>33.25</td>\n",
       "      <td>33.25</td>\n",
       "      <td>33.25</td>\n",
       "      <td>33.00</td>\n",
       "      <td>33.75</td>\n",
       "      <td>33.50</td>\n",
       "      <td>33.75</td>\n",
       "      <td>34.50</td>\n",
       "      <td>34.00</td>\n",
       "      <td>34.25</td>\n",
       "    </tr>\n",
       "    <tr>\n",
       "      <th>2</th>\n",
       "      <td>amuse.p1.1003</td>\n",
       "      <td>36.00</td>\n",
       "      <td>36.00</td>\n",
       "      <td>35.75</td>\n",
       "      <td>36.00</td>\n",
       "      <td>35.50</td>\n",
       "      <td>36.00</td>\n",
       "      <td>36.00</td>\n",
       "      <td>36.00</td>\n",
       "      <td>35.75</td>\n",
       "      <td>...</td>\n",
       "      <td>33.25</td>\n",
       "      <td>33.25</td>\n",
       "      <td>33.25</td>\n",
       "      <td>33.75</td>\n",
       "      <td>33.75</td>\n",
       "      <td>33.75</td>\n",
       "      <td>33.75</td>\n",
       "      <td>34.50</td>\n",
       "      <td>34.25</td>\n",
       "      <td>34.50</td>\n",
       "    </tr>\n",
       "    <tr>\n",
       "      <th>3</th>\n",
       "      <td>amuse.p1.1006</td>\n",
       "      <td>35.75</td>\n",
       "      <td>35.75</td>\n",
       "      <td>35.75</td>\n",
       "      <td>36.25</td>\n",
       "      <td>36.25</td>\n",
       "      <td>35.75</td>\n",
       "      <td>35.75</td>\n",
       "      <td>35.75</td>\n",
       "      <td>35.75</td>\n",
       "      <td>...</td>\n",
       "      <td>33.25</td>\n",
       "      <td>32.75</td>\n",
       "      <td>33.50</td>\n",
       "      <td>33.00</td>\n",
       "      <td>33.25</td>\n",
       "      <td>33.75</td>\n",
       "      <td>34.00</td>\n",
       "      <td>34.25</td>\n",
       "      <td>34.25</td>\n",
       "      <td>35.00</td>\n",
       "    </tr>\n",
       "    <tr>\n",
       "      <th>4</th>\n",
       "      <td>amuse.p1.1009</td>\n",
       "      <td>36.00</td>\n",
       "      <td>35.25</td>\n",
       "      <td>36.00</td>\n",
       "      <td>36.00</td>\n",
       "      <td>35.00</td>\n",
       "      <td>35.75</td>\n",
       "      <td>35.50</td>\n",
       "      <td>35.50</td>\n",
       "      <td>35.50</td>\n",
       "      <td>...</td>\n",
       "      <td>33.50</td>\n",
       "      <td>33.00</td>\n",
       "      <td>32.75</td>\n",
       "      <td>33.75</td>\n",
       "      <td>33.75</td>\n",
       "      <td>33.25</td>\n",
       "      <td>34.00</td>\n",
       "      <td>34.50</td>\n",
       "      <td>33.75</td>\n",
       "      <td>34.75</td>\n",
       "    </tr>\n",
       "  </tbody>\n",
       "</table>\n",
       "<p>5 rows × 1153 columns</p>\n",
       "</div>"
      ],
      "text/plain": [
       "              id  s1.X1_mv1  s1.X1_mv2  s1.X1_mv3  s1.X2_mv1  s1.X2_mv2  \\\n",
       "0     amuse.p1.1      35.25      35.50      35.75      36.00      35.25   \n",
       "1  amuse.p1.1000      35.75      35.75      36.25      35.50      36.00   \n",
       "2  amuse.p1.1003      36.00      36.00      35.75      36.00      35.50   \n",
       "3  amuse.p1.1006      35.75      35.75      35.75      36.25      36.25   \n",
       "4  amuse.p1.1009      36.00      35.25      36.00      36.00      35.00   \n",
       "\n",
       "   s1.X2_mv3  s1.X3_mv1  s1.X3_mv2  s1.X3_mv3  ...  s6.X61_mv3  s6.X62_mv1  \\\n",
       "0      35.75      35.50      35.75      35.50  ...       32.75       32.75   \n",
       "1      35.75      35.25      35.50      36.00  ...       33.25       33.25   \n",
       "2      36.00      36.00      36.00      35.75  ...       33.25       33.25   \n",
       "3      35.75      35.75      35.75      35.75  ...       33.25       32.75   \n",
       "4      35.75      35.50      35.50      35.50  ...       33.50       33.00   \n",
       "\n",
       "   s6.X62_mv2  s6.X62_mv3  s6.X63_mv1  s6.X63_mv2  s6.X63_mv3  s6.X64_mv1  \\\n",
       "0       33.00       33.00       33.50       33.50       33.25       33.75   \n",
       "1       33.25       33.00       33.75       33.50       33.75       34.50   \n",
       "2       33.25       33.75       33.75       33.75       33.75       34.50   \n",
       "3       33.50       33.00       33.25       33.75       34.00       34.25   \n",
       "4       32.75       33.75       33.75       33.25       34.00       34.50   \n",
       "\n",
       "   s6.X64_mv2  s6.X64_mv3  \n",
       "0       33.50       33.25  \n",
       "1       34.00       34.25  \n",
       "2       34.25       34.50  \n",
       "3       34.25       35.00  \n",
       "4       33.75       34.75  \n",
       "\n",
       "[5 rows x 1153 columns]"
      ]
     },
     "execution_count": 10,
     "metadata": {},
     "output_type": "execute_result"
    }
   ],
   "source": [
    "data.head()"
   ]
  },
  {
   "cell_type": "markdown",
   "id": "ea442ed3",
   "metadata": {},
   "source": [
    "## handle na"
   ]
  },
  {
   "cell_type": "code",
   "execution_count": 12,
   "id": "db3568f2",
   "metadata": {},
   "outputs": [
    {
     "name": "stdout",
     "output_type": "stream",
     "text": [
      "122\n"
     ]
    }
   ],
   "source": [
    "# check nan\n",
    "print(data.isnull().sum().sum()) "
   ]
  },
  {
   "cell_type": "markdown",
   "id": "db381212",
   "metadata": {},
   "source": [
    "Fill na with neighbour values"
   ]
  },
  {
   "cell_type": "code",
   "execution_count": 14,
   "id": "a0f98eb1",
   "metadata": {},
   "outputs": [
    {
     "name": "stdout",
     "output_type": "stream",
     "text": [
      "0\n"
     ]
    }
   ],
   "source": [
    "# fill na by forwarding neighbour values\n",
    "data.fillna(method='ffill', inplace=True)\n",
    "print(data.isnull().sum().sum()) "
   ]
  },
  {
   "cell_type": "markdown",
   "id": "2909a063",
   "metadata": {},
   "source": [
    "## organise columns"
   ]
  },
  {
   "cell_type": "code",
   "execution_count": null,
   "id": "32f698ac",
   "metadata": {},
   "outputs": [],
   "source": [
    "data['class'] = data['id']\n",
    "data[['class','p','delete']] = data['id'].apply(lambda x: pd.Series(str(x).split('.')))\n",
    "data.drop(columns='delete', inplace=True)"
   ]
  },
  {
   "cell_type": "code",
   "execution_count": 34,
   "id": "3c0379aa",
   "metadata": {},
   "outputs": [
    {
     "data": {
      "text/html": [
       "<div>\n",
       "<style scoped>\n",
       "    .dataframe tbody tr th:only-of-type {\n",
       "        vertical-align: middle;\n",
       "    }\n",
       "\n",
       "    .dataframe tbody tr th {\n",
       "        vertical-align: top;\n",
       "    }\n",
       "\n",
       "    .dataframe thead th {\n",
       "        text-align: right;\n",
       "    }\n",
       "</style>\n",
       "<table border=\"1\" class=\"dataframe\">\n",
       "  <thead>\n",
       "    <tr style=\"text-align: right;\">\n",
       "      <th></th>\n",
       "      <th>s1.X1_mv1</th>\n",
       "      <th>s1.X1_mv2</th>\n",
       "      <th>s1.X1_mv3</th>\n",
       "      <th>s1.X2_mv1</th>\n",
       "      <th>s1.X2_mv2</th>\n",
       "      <th>s1.X2_mv3</th>\n",
       "      <th>s1.X3_mv1</th>\n",
       "      <th>s1.X3_mv2</th>\n",
       "      <th>s1.X3_mv3</th>\n",
       "      <th>s1.X4_mv1</th>\n",
       "      <th>...</th>\n",
       "      <th>s6.X62_mv2</th>\n",
       "      <th>s6.X62_mv3</th>\n",
       "      <th>s6.X63_mv1</th>\n",
       "      <th>s6.X63_mv2</th>\n",
       "      <th>s6.X63_mv3</th>\n",
       "      <th>s6.X64_mv1</th>\n",
       "      <th>s6.X64_mv2</th>\n",
       "      <th>s6.X64_mv3</th>\n",
       "      <th>class</th>\n",
       "      <th>p</th>\n",
       "    </tr>\n",
       "  </thead>\n",
       "  <tbody>\n",
       "    <tr>\n",
       "      <th>0</th>\n",
       "      <td>35.25</td>\n",
       "      <td>35.50</td>\n",
       "      <td>35.75</td>\n",
       "      <td>36.00</td>\n",
       "      <td>35.25</td>\n",
       "      <td>35.75</td>\n",
       "      <td>35.50</td>\n",
       "      <td>35.75</td>\n",
       "      <td>35.50</td>\n",
       "      <td>35.75</td>\n",
       "      <td>...</td>\n",
       "      <td>33.00</td>\n",
       "      <td>33.00</td>\n",
       "      <td>33.50</td>\n",
       "      <td>33.50</td>\n",
       "      <td>33.25</td>\n",
       "      <td>33.75</td>\n",
       "      <td>33.50</td>\n",
       "      <td>33.25</td>\n",
       "      <td>amuse</td>\n",
       "      <td>p1</td>\n",
       "    </tr>\n",
       "    <tr>\n",
       "      <th>1</th>\n",
       "      <td>35.75</td>\n",
       "      <td>35.75</td>\n",
       "      <td>36.25</td>\n",
       "      <td>35.50</td>\n",
       "      <td>36.00</td>\n",
       "      <td>35.75</td>\n",
       "      <td>35.25</td>\n",
       "      <td>35.50</td>\n",
       "      <td>36.00</td>\n",
       "      <td>36.25</td>\n",
       "      <td>...</td>\n",
       "      <td>33.25</td>\n",
       "      <td>33.00</td>\n",
       "      <td>33.75</td>\n",
       "      <td>33.50</td>\n",
       "      <td>33.75</td>\n",
       "      <td>34.50</td>\n",
       "      <td>34.00</td>\n",
       "      <td>34.25</td>\n",
       "      <td>amuse</td>\n",
       "      <td>p1</td>\n",
       "    </tr>\n",
       "    <tr>\n",
       "      <th>2</th>\n",
       "      <td>36.00</td>\n",
       "      <td>36.00</td>\n",
       "      <td>35.75</td>\n",
       "      <td>36.00</td>\n",
       "      <td>35.50</td>\n",
       "      <td>36.00</td>\n",
       "      <td>36.00</td>\n",
       "      <td>36.00</td>\n",
       "      <td>35.75</td>\n",
       "      <td>36.00</td>\n",
       "      <td>...</td>\n",
       "      <td>33.25</td>\n",
       "      <td>33.75</td>\n",
       "      <td>33.75</td>\n",
       "      <td>33.75</td>\n",
       "      <td>33.75</td>\n",
       "      <td>34.50</td>\n",
       "      <td>34.25</td>\n",
       "      <td>34.50</td>\n",
       "      <td>amuse</td>\n",
       "      <td>p1</td>\n",
       "    </tr>\n",
       "    <tr>\n",
       "      <th>3</th>\n",
       "      <td>35.75</td>\n",
       "      <td>35.75</td>\n",
       "      <td>35.75</td>\n",
       "      <td>36.25</td>\n",
       "      <td>36.25</td>\n",
       "      <td>35.75</td>\n",
       "      <td>35.75</td>\n",
       "      <td>35.75</td>\n",
       "      <td>35.75</td>\n",
       "      <td>36.25</td>\n",
       "      <td>...</td>\n",
       "      <td>33.50</td>\n",
       "      <td>33.00</td>\n",
       "      <td>33.25</td>\n",
       "      <td>33.75</td>\n",
       "      <td>34.00</td>\n",
       "      <td>34.25</td>\n",
       "      <td>34.25</td>\n",
       "      <td>35.00</td>\n",
       "      <td>amuse</td>\n",
       "      <td>p1</td>\n",
       "    </tr>\n",
       "    <tr>\n",
       "      <th>4</th>\n",
       "      <td>36.00</td>\n",
       "      <td>35.25</td>\n",
       "      <td>36.00</td>\n",
       "      <td>36.00</td>\n",
       "      <td>35.00</td>\n",
       "      <td>35.75</td>\n",
       "      <td>35.50</td>\n",
       "      <td>35.50</td>\n",
       "      <td>35.50</td>\n",
       "      <td>35.75</td>\n",
       "      <td>...</td>\n",
       "      <td>32.75</td>\n",
       "      <td>33.75</td>\n",
       "      <td>33.75</td>\n",
       "      <td>33.25</td>\n",
       "      <td>34.00</td>\n",
       "      <td>34.50</td>\n",
       "      <td>33.75</td>\n",
       "      <td>34.75</td>\n",
       "      <td>amuse</td>\n",
       "      <td>p1</td>\n",
       "    </tr>\n",
       "  </tbody>\n",
       "</table>\n",
       "<p>5 rows × 1154 columns</p>\n",
       "</div>"
      ],
      "text/plain": [
       "   s1.X1_mv1  s1.X1_mv2  s1.X1_mv3  s1.X2_mv1  s1.X2_mv2  s1.X2_mv3  \\\n",
       "0      35.25      35.50      35.75      36.00      35.25      35.75   \n",
       "1      35.75      35.75      36.25      35.50      36.00      35.75   \n",
       "2      36.00      36.00      35.75      36.00      35.50      36.00   \n",
       "3      35.75      35.75      35.75      36.25      36.25      35.75   \n",
       "4      36.00      35.25      36.00      36.00      35.00      35.75   \n",
       "\n",
       "   s1.X3_mv1  s1.X3_mv2  s1.X3_mv3  s1.X4_mv1  ...  s6.X62_mv2  s6.X62_mv3  \\\n",
       "0      35.50      35.75      35.50      35.75  ...       33.00       33.00   \n",
       "1      35.25      35.50      36.00      36.25  ...       33.25       33.00   \n",
       "2      36.00      36.00      35.75      36.00  ...       33.25       33.75   \n",
       "3      35.75      35.75      35.75      36.25  ...       33.50       33.00   \n",
       "4      35.50      35.50      35.50      35.75  ...       32.75       33.75   \n",
       "\n",
       "   s6.X63_mv1  s6.X63_mv2  s6.X63_mv3  s6.X64_mv1  s6.X64_mv2  s6.X64_mv3  \\\n",
       "0       33.50       33.50       33.25       33.75       33.50       33.25   \n",
       "1       33.75       33.50       33.75       34.50       34.00       34.25   \n",
       "2       33.75       33.75       33.75       34.50       34.25       34.50   \n",
       "3       33.25       33.75       34.00       34.25       34.25       35.00   \n",
       "4       33.75       33.25       34.00       34.50       33.75       34.75   \n",
       "\n",
       "   class   p  \n",
       "0  amuse  p1  \n",
       "1  amuse  p1  \n",
       "2  amuse  p1  \n",
       "3  amuse  p1  \n",
       "4  amuse  p1  \n",
       "\n",
       "[5 rows x 1154 columns]"
      ]
     },
     "execution_count": 34,
     "metadata": {},
     "output_type": "execute_result"
    }
   ],
   "source": [
    "data.head()"
   ]
  },
  {
   "cell_type": "code",
   "execution_count": 38,
   "id": "768f6216",
   "metadata": {},
   "outputs": [
    {
     "data": {
      "text/plain": [
       "(53444, 1155)"
      ]
     },
     "execution_count": 38,
     "metadata": {},
     "output_type": "execute_result"
    }
   ],
   "source": [
    "first_col = data.pop('id')\n",
    "data.insert(1154, 'id', first_col)\n",
    "data.shape"
   ]
  },
  {
   "cell_type": "code",
   "execution_count": 39,
   "id": "dfabc2a1",
   "metadata": {},
   "outputs": [
    {
     "data": {
      "text/html": [
       "<div>\n",
       "<style scoped>\n",
       "    .dataframe tbody tr th:only-of-type {\n",
       "        vertical-align: middle;\n",
       "    }\n",
       "\n",
       "    .dataframe tbody tr th {\n",
       "        vertical-align: top;\n",
       "    }\n",
       "\n",
       "    .dataframe thead th {\n",
       "        text-align: right;\n",
       "    }\n",
       "</style>\n",
       "<table border=\"1\" class=\"dataframe\">\n",
       "  <thead>\n",
       "    <tr style=\"text-align: right;\">\n",
       "      <th></th>\n",
       "      <th>s1.X1_mv1</th>\n",
       "      <th>s1.X1_mv2</th>\n",
       "      <th>s1.X1_mv3</th>\n",
       "      <th>s1.X2_mv1</th>\n",
       "      <th>s1.X2_mv2</th>\n",
       "      <th>s1.X2_mv3</th>\n",
       "      <th>s1.X3_mv1</th>\n",
       "      <th>s1.X3_mv2</th>\n",
       "      <th>s1.X3_mv3</th>\n",
       "      <th>s1.X4_mv1</th>\n",
       "      <th>...</th>\n",
       "      <th>s6.X62_mv3</th>\n",
       "      <th>s6.X63_mv1</th>\n",
       "      <th>s6.X63_mv2</th>\n",
       "      <th>s6.X63_mv3</th>\n",
       "      <th>s6.X64_mv1</th>\n",
       "      <th>s6.X64_mv2</th>\n",
       "      <th>s6.X64_mv3</th>\n",
       "      <th>class</th>\n",
       "      <th>p</th>\n",
       "      <th>id</th>\n",
       "    </tr>\n",
       "  </thead>\n",
       "  <tbody>\n",
       "    <tr>\n",
       "      <th>0</th>\n",
       "      <td>35.25</td>\n",
       "      <td>35.50</td>\n",
       "      <td>35.75</td>\n",
       "      <td>36.00</td>\n",
       "      <td>35.25</td>\n",
       "      <td>35.75</td>\n",
       "      <td>35.50</td>\n",
       "      <td>35.75</td>\n",
       "      <td>35.50</td>\n",
       "      <td>35.75</td>\n",
       "      <td>...</td>\n",
       "      <td>33.00</td>\n",
       "      <td>33.50</td>\n",
       "      <td>33.50</td>\n",
       "      <td>33.25</td>\n",
       "      <td>33.75</td>\n",
       "      <td>33.50</td>\n",
       "      <td>33.25</td>\n",
       "      <td>amuse</td>\n",
       "      <td>p1</td>\n",
       "      <td>amuse.p1.1</td>\n",
       "    </tr>\n",
       "    <tr>\n",
       "      <th>1</th>\n",
       "      <td>35.75</td>\n",
       "      <td>35.75</td>\n",
       "      <td>36.25</td>\n",
       "      <td>35.50</td>\n",
       "      <td>36.00</td>\n",
       "      <td>35.75</td>\n",
       "      <td>35.25</td>\n",
       "      <td>35.50</td>\n",
       "      <td>36.00</td>\n",
       "      <td>36.25</td>\n",
       "      <td>...</td>\n",
       "      <td>33.00</td>\n",
       "      <td>33.75</td>\n",
       "      <td>33.50</td>\n",
       "      <td>33.75</td>\n",
       "      <td>34.50</td>\n",
       "      <td>34.00</td>\n",
       "      <td>34.25</td>\n",
       "      <td>amuse</td>\n",
       "      <td>p1</td>\n",
       "      <td>amuse.p1.1000</td>\n",
       "    </tr>\n",
       "    <tr>\n",
       "      <th>2</th>\n",
       "      <td>36.00</td>\n",
       "      <td>36.00</td>\n",
       "      <td>35.75</td>\n",
       "      <td>36.00</td>\n",
       "      <td>35.50</td>\n",
       "      <td>36.00</td>\n",
       "      <td>36.00</td>\n",
       "      <td>36.00</td>\n",
       "      <td>35.75</td>\n",
       "      <td>36.00</td>\n",
       "      <td>...</td>\n",
       "      <td>33.75</td>\n",
       "      <td>33.75</td>\n",
       "      <td>33.75</td>\n",
       "      <td>33.75</td>\n",
       "      <td>34.50</td>\n",
       "      <td>34.25</td>\n",
       "      <td>34.50</td>\n",
       "      <td>amuse</td>\n",
       "      <td>p1</td>\n",
       "      <td>amuse.p1.1003</td>\n",
       "    </tr>\n",
       "    <tr>\n",
       "      <th>3</th>\n",
       "      <td>35.75</td>\n",
       "      <td>35.75</td>\n",
       "      <td>35.75</td>\n",
       "      <td>36.25</td>\n",
       "      <td>36.25</td>\n",
       "      <td>35.75</td>\n",
       "      <td>35.75</td>\n",
       "      <td>35.75</td>\n",
       "      <td>35.75</td>\n",
       "      <td>36.25</td>\n",
       "      <td>...</td>\n",
       "      <td>33.00</td>\n",
       "      <td>33.25</td>\n",
       "      <td>33.75</td>\n",
       "      <td>34.00</td>\n",
       "      <td>34.25</td>\n",
       "      <td>34.25</td>\n",
       "      <td>35.00</td>\n",
       "      <td>amuse</td>\n",
       "      <td>p1</td>\n",
       "      <td>amuse.p1.1006</td>\n",
       "    </tr>\n",
       "    <tr>\n",
       "      <th>4</th>\n",
       "      <td>36.00</td>\n",
       "      <td>35.25</td>\n",
       "      <td>36.00</td>\n",
       "      <td>36.00</td>\n",
       "      <td>35.00</td>\n",
       "      <td>35.75</td>\n",
       "      <td>35.50</td>\n",
       "      <td>35.50</td>\n",
       "      <td>35.50</td>\n",
       "      <td>35.75</td>\n",
       "      <td>...</td>\n",
       "      <td>33.75</td>\n",
       "      <td>33.75</td>\n",
       "      <td>33.25</td>\n",
       "      <td>34.00</td>\n",
       "      <td>34.50</td>\n",
       "      <td>33.75</td>\n",
       "      <td>34.75</td>\n",
       "      <td>amuse</td>\n",
       "      <td>p1</td>\n",
       "      <td>amuse.p1.1009</td>\n",
       "    </tr>\n",
       "  </tbody>\n",
       "</table>\n",
       "<p>5 rows × 1155 columns</p>\n",
       "</div>"
      ],
      "text/plain": [
       "   s1.X1_mv1  s1.X1_mv2  s1.X1_mv3  s1.X2_mv1  s1.X2_mv2  s1.X2_mv3  \\\n",
       "0      35.25      35.50      35.75      36.00      35.25      35.75   \n",
       "1      35.75      35.75      36.25      35.50      36.00      35.75   \n",
       "2      36.00      36.00      35.75      36.00      35.50      36.00   \n",
       "3      35.75      35.75      35.75      36.25      36.25      35.75   \n",
       "4      36.00      35.25      36.00      36.00      35.00      35.75   \n",
       "\n",
       "   s1.X3_mv1  s1.X3_mv2  s1.X3_mv3  s1.X4_mv1  ...  s6.X62_mv3  s6.X63_mv1  \\\n",
       "0      35.50      35.75      35.50      35.75  ...       33.00       33.50   \n",
       "1      35.25      35.50      36.00      36.25  ...       33.00       33.75   \n",
       "2      36.00      36.00      35.75      36.00  ...       33.75       33.75   \n",
       "3      35.75      35.75      35.75      36.25  ...       33.00       33.25   \n",
       "4      35.50      35.50      35.50      35.75  ...       33.75       33.75   \n",
       "\n",
       "   s6.X63_mv2  s6.X63_mv3  s6.X64_mv1  s6.X64_mv2  s6.X64_mv3  class   p  \\\n",
       "0       33.50       33.25       33.75       33.50       33.25  amuse  p1   \n",
       "1       33.50       33.75       34.50       34.00       34.25  amuse  p1   \n",
       "2       33.75       33.75       34.50       34.25       34.50  amuse  p1   \n",
       "3       33.75       34.00       34.25       34.25       35.00  amuse  p1   \n",
       "4       33.25       34.00       34.50       33.75       34.75  amuse  p1   \n",
       "\n",
       "              id  \n",
       "0     amuse.p1.1  \n",
       "1  amuse.p1.1000  \n",
       "2  amuse.p1.1003  \n",
       "3  amuse.p1.1006  \n",
       "4  amuse.p1.1009  \n",
       "\n",
       "[5 rows x 1155 columns]"
      ]
     },
     "execution_count": 39,
     "metadata": {},
     "output_type": "execute_result"
    }
   ],
   "source": [
    "data.head()"
   ]
  },
  {
   "cell_type": "code",
   "execution_count": 18,
   "id": "d4eee30c",
   "metadata": {
    "scrolled": true
   },
   "outputs": [
    {
     "name": "stdout",
     "output_type": "stream",
     "text": [
      "<class 'pandas.core.frame.DataFrame'>\n",
      "RangeIndex: 53444 entries, 0 to 53443\n",
      "Columns: 1153 entries, id to s6.X64_mv3\n",
      "dtypes: float64(1152), object(1)\n",
      "memory usage: 470.1+ MB\n"
     ]
    }
   ],
   "source": [
    "data.info()"
   ]
  },
  {
   "cell_type": "code",
   "execution_count": 40,
   "id": "a735fa4c",
   "metadata": {},
   "outputs": [],
   "source": [
    "# save full dataset to file\n",
    "data.to_csv('dataset\\participant_1152\\py_XY1152.csv', index=False)"
   ]
  },
  {
   "cell_type": "markdown",
   "id": "9f8967f9",
   "metadata": {},
   "source": [
    "# Reload full dataset `XY1152.csv`"
   ]
  },
  {
   "cell_type": "code",
   "execution_count": 477,
   "id": "f9a160b8",
   "metadata": {},
   "outputs": [],
   "source": [
    "# !pip3 install --upgrade pandas  --user"
   ]
  },
  {
   "cell_type": "code",
   "execution_count": 478,
   "id": "3039fe13",
   "metadata": {},
   "outputs": [
    {
     "ename": "OSError",
     "evalue": "[Errno 22] Invalid argument: 'dataset\\\\participant_1152\\\\py_XY1152.csv'",
     "output_type": "error",
     "traceback": [
      "\u001b[1;31m---------------------------------------------------------------------------\u001b[0m",
      "\u001b[1;31mOSError\u001b[0m                                   Traceback (most recent call last)",
      "\u001b[1;32m~\\AppData\\Local\\Temp\\ipykernel_19056\\559218743.py\u001b[0m in \u001b[0;36m<module>\u001b[1;34m\u001b[0m\n\u001b[1;32m----> 1\u001b[1;33m \u001b[0mdata\u001b[0m \u001b[1;33m=\u001b[0m \u001b[0mpd\u001b[0m\u001b[1;33m.\u001b[0m\u001b[0mread_csv\u001b[0m\u001b[1;33m(\u001b[0m\u001b[1;34m'dataset\\participant_1152\\py_XY1152.csv'\u001b[0m\u001b[1;33m)\u001b[0m\u001b[1;33m\u001b[0m\u001b[1;33m\u001b[0m\u001b[0m\n\u001b[0m\u001b[0;32m      2\u001b[0m \u001b[1;31m# data = data.drop(data.columns[0], axis=1)\u001b[0m\u001b[1;33m\u001b[0m\u001b[1;33m\u001b[0m\u001b[0m\n\u001b[0;32m      3\u001b[0m \u001b[0mprint\u001b[0m\u001b[1;33m(\u001b[0m\u001b[0mdata\u001b[0m\u001b[1;33m.\u001b[0m\u001b[0mshape\u001b[0m\u001b[1;33m)\u001b[0m\u001b[1;33m\u001b[0m\u001b[1;33m\u001b[0m\u001b[0m\n",
      "\u001b[1;32m~\\anaconda3\\lib\\site-packages\\pandas\\util\\_decorators.py\u001b[0m in \u001b[0;36mwrapper\u001b[1;34m(*args, **kwargs)\u001b[0m\n\u001b[0;32m    309\u001b[0m                 \u001b[1;32mand\u001b[0m \u001b[0mp\u001b[0m\u001b[1;33m.\u001b[0m\u001b[0mname\u001b[0m \u001b[1;32mnot\u001b[0m \u001b[1;32min\u001b[0m \u001b[0mallow_args\u001b[0m\u001b[1;33m\u001b[0m\u001b[1;33m\u001b[0m\u001b[0m\n\u001b[0;32m    310\u001b[0m             )\n\u001b[1;32m--> 311\u001b[1;33m             \u001b[1;32melse\u001b[0m \u001b[0mp\u001b[0m\u001b[1;33m\u001b[0m\u001b[1;33m\u001b[0m\u001b[0m\n\u001b[0m\u001b[0;32m    312\u001b[0m             \u001b[1;32mfor\u001b[0m \u001b[0mp\u001b[0m \u001b[1;32min\u001b[0m \u001b[0mold_sig\u001b[0m\u001b[1;33m.\u001b[0m\u001b[0mparameters\u001b[0m\u001b[1;33m.\u001b[0m\u001b[0mvalues\u001b[0m\u001b[1;33m(\u001b[0m\u001b[1;33m)\u001b[0m\u001b[1;33m\u001b[0m\u001b[1;33m\u001b[0m\u001b[0m\n\u001b[0;32m    313\u001b[0m         ]\n",
      "\u001b[1;32m~\\anaconda3\\lib\\site-packages\\pandas\\io\\parsers\\readers.py\u001b[0m in \u001b[0;36mread_csv\u001b[1;34m(filepath_or_buffer, sep, delimiter, header, names, index_col, usecols, squeeze, prefix, mangle_dupe_cols, dtype, engine, converters, true_values, false_values, skipinitialspace, skiprows, skipfooter, nrows, na_values, keep_default_na, na_filter, verbose, skip_blank_lines, parse_dates, infer_datetime_format, keep_date_col, date_parser, dayfirst, cache_dates, iterator, chunksize, compression, thousands, decimal, lineterminator, quotechar, quoting, doublequote, escapechar, comment, encoding, encoding_errors, dialect, error_bad_lines, warn_bad_lines, on_bad_lines, delim_whitespace, low_memory, memory_map, float_precision, storage_options)\u001b[0m\n\u001b[0;32m    676\u001b[0m def read_csv(\n\u001b[0;32m    677\u001b[0m     \u001b[0mfilepath_or_buffer\u001b[0m\u001b[1;33m:\u001b[0m \u001b[0mFilePath\u001b[0m \u001b[1;33m|\u001b[0m \u001b[0mReadCsvBuffer\u001b[0m\u001b[1;33m[\u001b[0m\u001b[0mbytes\u001b[0m\u001b[1;33m]\u001b[0m \u001b[1;33m|\u001b[0m \u001b[0mReadCsvBuffer\u001b[0m\u001b[1;33m[\u001b[0m\u001b[0mstr\u001b[0m\u001b[1;33m]\u001b[0m\u001b[1;33m,\u001b[0m\u001b[1;33m\u001b[0m\u001b[1;33m\u001b[0m\u001b[0m\n\u001b[1;32m--> 678\u001b[1;33m     \u001b[1;33m*\u001b[0m\u001b[1;33m,\u001b[0m\u001b[1;33m\u001b[0m\u001b[1;33m\u001b[0m\u001b[0m\n\u001b[0m\u001b[0;32m    679\u001b[0m     \u001b[0msep\u001b[0m\u001b[1;33m:\u001b[0m \u001b[0mstr\u001b[0m \u001b[1;33m|\u001b[0m \u001b[1;32mNone\u001b[0m \u001b[1;33m|\u001b[0m \u001b[0mlib\u001b[0m\u001b[1;33m.\u001b[0m\u001b[0mNoDefault\u001b[0m \u001b[1;33m=\u001b[0m \u001b[1;33m...\u001b[0m\u001b[1;33m,\u001b[0m\u001b[1;33m\u001b[0m\u001b[1;33m\u001b[0m\u001b[0m\n\u001b[0;32m    680\u001b[0m     \u001b[0mdelimiter\u001b[0m\u001b[1;33m:\u001b[0m \u001b[0mstr\u001b[0m \u001b[1;33m|\u001b[0m \u001b[1;32mNone\u001b[0m \u001b[1;33m|\u001b[0m \u001b[0mlib\u001b[0m\u001b[1;33m.\u001b[0m\u001b[0mNoDefault\u001b[0m \u001b[1;33m=\u001b[0m \u001b[1;33m...\u001b[0m\u001b[1;33m,\u001b[0m\u001b[1;33m\u001b[0m\u001b[1;33m\u001b[0m\u001b[0m\n",
      "\u001b[1;32m~\\anaconda3\\lib\\site-packages\\pandas\\io\\parsers\\readers.py\u001b[0m in \u001b[0;36m_read\u001b[1;34m(filepath_or_buffer, kwds)\u001b[0m\n\u001b[0;32m    573\u001b[0m ) -> DataFrame | TextFileReader:\n\u001b[0;32m    574\u001b[0m     \u001b[1;34m\"\"\"Generic reader of line files.\"\"\"\u001b[0m\u001b[1;33m\u001b[0m\u001b[1;33m\u001b[0m\u001b[0m\n\u001b[1;32m--> 575\u001b[1;33m     \u001b[1;31m# if we pass a date_parser and parse_dates=False, we should not parse the\u001b[0m\u001b[1;33m\u001b[0m\u001b[1;33m\u001b[0m\u001b[0m\n\u001b[0m\u001b[0;32m    576\u001b[0m     \u001b[1;31m# dates GH#44366\u001b[0m\u001b[1;33m\u001b[0m\u001b[1;33m\u001b[0m\u001b[0m\n\u001b[0;32m    577\u001b[0m     \u001b[1;32mif\u001b[0m \u001b[0mkwds\u001b[0m\u001b[1;33m.\u001b[0m\u001b[0mget\u001b[0m\u001b[1;33m(\u001b[0m\u001b[1;34m\"parse_dates\"\u001b[0m\u001b[1;33m,\u001b[0m \u001b[1;32mNone\u001b[0m\u001b[1;33m)\u001b[0m \u001b[1;32mis\u001b[0m \u001b[1;32mNone\u001b[0m\u001b[1;33m:\u001b[0m\u001b[1;33m\u001b[0m\u001b[1;33m\u001b[0m\u001b[0m\n",
      "\u001b[1;32m~\\anaconda3\\lib\\site-packages\\pandas\\io\\parsers\\readers.py\u001b[0m in \u001b[0;36m__init__\u001b[1;34m(self, f, engine, **kwds)\u001b[0m\n\u001b[0;32m    930\u001b[0m     \u001b[1;31m# locals() should never be modified\u001b[0m\u001b[1;33m\u001b[0m\u001b[1;33m\u001b[0m\u001b[0m\n\u001b[0;32m    931\u001b[0m     \u001b[0mkwds\u001b[0m \u001b[1;33m=\u001b[0m \u001b[0mlocals\u001b[0m\u001b[1;33m(\u001b[0m\u001b[1;33m)\u001b[0m\u001b[1;33m.\u001b[0m\u001b[0mcopy\u001b[0m\u001b[1;33m(\u001b[0m\u001b[1;33m)\u001b[0m\u001b[1;33m\u001b[0m\u001b[1;33m\u001b[0m\u001b[0m\n\u001b[1;32m--> 932\u001b[1;33m     \u001b[1;32mdel\u001b[0m \u001b[0mkwds\u001b[0m\u001b[1;33m[\u001b[0m\u001b[1;34m\"filepath_or_buffer\"\u001b[0m\u001b[1;33m]\u001b[0m\u001b[1;33m\u001b[0m\u001b[1;33m\u001b[0m\u001b[0m\n\u001b[0m\u001b[0;32m    933\u001b[0m     \u001b[1;32mdel\u001b[0m \u001b[0mkwds\u001b[0m\u001b[1;33m[\u001b[0m\u001b[1;34m\"sep\"\u001b[0m\u001b[1;33m]\u001b[0m\u001b[1;33m\u001b[0m\u001b[1;33m\u001b[0m\u001b[0m\n\u001b[0;32m    934\u001b[0m \u001b[1;33m\u001b[0m\u001b[0m\n",
      "\u001b[1;32m~\\anaconda3\\lib\\site-packages\\pandas\\io\\parsers\\readers.py\u001b[0m in \u001b[0;36m_make_engine\u001b[1;34m(self, f, engine)\u001b[0m\n\u001b[0;32m   1214\u001b[0m     \u001b[0msqueeze\u001b[0m\u001b[1;33m:\u001b[0m \u001b[0mbool\u001b[0m \u001b[1;33m|\u001b[0m \u001b[1;32mNone\u001b[0m \u001b[1;33m=\u001b[0m \u001b[1;32mNone\u001b[0m\u001b[1;33m,\u001b[0m\u001b[1;33m\u001b[0m\u001b[1;33m\u001b[0m\u001b[0m\n\u001b[0;32m   1215\u001b[0m     \u001b[0mprefix\u001b[0m\u001b[1;33m:\u001b[0m \u001b[0mstr\u001b[0m \u001b[1;33m|\u001b[0m \u001b[0mlib\u001b[0m\u001b[1;33m.\u001b[0m\u001b[0mNoDefault\u001b[0m \u001b[1;33m=\u001b[0m \u001b[0mlib\u001b[0m\u001b[1;33m.\u001b[0m\u001b[0mno_default\u001b[0m\u001b[1;33m,\u001b[0m\u001b[1;33m\u001b[0m\u001b[1;33m\u001b[0m\u001b[0m\n\u001b[1;32m-> 1216\u001b[1;33m     \u001b[0mmangle_dupe_cols\u001b[0m\u001b[1;33m:\u001b[0m \u001b[0mbool\u001b[0m \u001b[1;33m=\u001b[0m \u001b[1;32mTrue\u001b[0m\u001b[1;33m,\u001b[0m\u001b[1;33m\u001b[0m\u001b[1;33m\u001b[0m\u001b[0m\n\u001b[0m\u001b[0;32m   1217\u001b[0m     \u001b[1;31m# General Parsing Configuration\u001b[0m\u001b[1;33m\u001b[0m\u001b[1;33m\u001b[0m\u001b[0m\n\u001b[0;32m   1218\u001b[0m     \u001b[0mdtype\u001b[0m\u001b[1;33m:\u001b[0m \u001b[0mDtypeArg\u001b[0m \u001b[1;33m|\u001b[0m \u001b[1;32mNone\u001b[0m \u001b[1;33m=\u001b[0m \u001b[1;32mNone\u001b[0m\u001b[1;33m,\u001b[0m\u001b[1;33m\u001b[0m\u001b[1;33m\u001b[0m\u001b[0m\n",
      "\u001b[1;32m~\\anaconda3\\lib\\site-packages\\pandas\\io\\common.py\u001b[0m in \u001b[0;36mget_handle\u001b[1;34m(path_or_buf, mode, encoding, compression, memory_map, is_text, errors, storage_options)\u001b[0m\n\u001b[0;32m    784\u001b[0m                 \u001b[0mzip_names\u001b[0m \u001b[1;33m=\u001b[0m \u001b[0mhandle\u001b[0m\u001b[1;33m.\u001b[0m\u001b[0mbuffer\u001b[0m\u001b[1;33m.\u001b[0m\u001b[0mnamelist\u001b[0m\u001b[1;33m(\u001b[0m\u001b[1;33m)\u001b[0m\u001b[1;33m\u001b[0m\u001b[1;33m\u001b[0m\u001b[0m\n\u001b[0;32m    785\u001b[0m                 \u001b[1;32mif\u001b[0m \u001b[0mlen\u001b[0m\u001b[1;33m(\u001b[0m\u001b[0mzip_names\u001b[0m\u001b[1;33m)\u001b[0m \u001b[1;33m==\u001b[0m \u001b[1;36m1\u001b[0m\u001b[1;33m:\u001b[0m\u001b[1;33m\u001b[0m\u001b[1;33m\u001b[0m\u001b[0m\n\u001b[1;32m--> 786\u001b[1;33m                     \u001b[0mhandle\u001b[0m \u001b[1;33m=\u001b[0m \u001b[0mhandle\u001b[0m\u001b[1;33m.\u001b[0m\u001b[0mbuffer\u001b[0m\u001b[1;33m.\u001b[0m\u001b[0mopen\u001b[0m\u001b[1;33m(\u001b[0m\u001b[0mzip_names\u001b[0m\u001b[1;33m.\u001b[0m\u001b[0mpop\u001b[0m\u001b[1;33m(\u001b[0m\u001b[1;33m)\u001b[0m\u001b[1;33m)\u001b[0m\u001b[1;33m\u001b[0m\u001b[1;33m\u001b[0m\u001b[0m\n\u001b[0m\u001b[0;32m    787\u001b[0m                 \u001b[1;32melif\u001b[0m \u001b[1;32mnot\u001b[0m \u001b[0mzip_names\u001b[0m\u001b[1;33m:\u001b[0m\u001b[1;33m\u001b[0m\u001b[1;33m\u001b[0m\u001b[0m\n\u001b[0;32m    788\u001b[0m                     \u001b[1;32mraise\u001b[0m \u001b[0mValueError\u001b[0m\u001b[1;33m(\u001b[0m\u001b[1;34mf\"Zero files found in ZIP file {path_or_buf}\"\u001b[0m\u001b[1;33m)\u001b[0m\u001b[1;33m\u001b[0m\u001b[1;33m\u001b[0m\u001b[0m\n",
      "\u001b[1;31mOSError\u001b[0m: [Errno 22] Invalid argument: 'dataset\\\\participant_1152\\\\py_XY1152.csv'"
     ]
    }
   ],
   "source": [
    "data = pd.read_csv('dataset\\participant_1152\\py_XY1152.csv')\n",
    "# data = data.drop(data.columns[0], axis=1)\n",
    "print(data.shape)"
   ]
  },
  {
   "cell_type": "code",
   "execution_count": 479,
   "id": "295396e2",
   "metadata": {},
   "outputs": [
    {
     "data": {
      "text/html": [
       "<div>\n",
       "<style scoped>\n",
       "    .dataframe tbody tr th:only-of-type {\n",
       "        vertical-align: middle;\n",
       "    }\n",
       "\n",
       "    .dataframe tbody tr th {\n",
       "        vertical-align: top;\n",
       "    }\n",
       "\n",
       "    .dataframe thead th {\n",
       "        text-align: right;\n",
       "    }\n",
       "</style>\n",
       "<table border=\"1\" class=\"dataframe\">\n",
       "  <thead>\n",
       "    <tr style=\"text-align: right;\">\n",
       "      <th></th>\n",
       "      <th>s1.X1_mv1</th>\n",
       "      <th>s1.X1_mv2</th>\n",
       "      <th>s1.X1_mv3</th>\n",
       "      <th>s1.X2_mv1</th>\n",
       "      <th>s1.X2_mv2</th>\n",
       "      <th>s1.X2_mv3</th>\n",
       "      <th>s1.X3_mv1</th>\n",
       "      <th>s1.X3_mv2</th>\n",
       "      <th>s1.X3_mv3</th>\n",
       "      <th>s1.X4_mv1</th>\n",
       "      <th>...</th>\n",
       "      <th>s6.X62_mv3</th>\n",
       "      <th>s6.X63_mv1</th>\n",
       "      <th>s6.X63_mv2</th>\n",
       "      <th>s6.X63_mv3</th>\n",
       "      <th>s6.X64_mv1</th>\n",
       "      <th>s6.X64_mv2</th>\n",
       "      <th>s6.X64_mv3</th>\n",
       "      <th>class</th>\n",
       "      <th>p</th>\n",
       "      <th>id</th>\n",
       "    </tr>\n",
       "  </thead>\n",
       "  <tbody>\n",
       "    <tr>\n",
       "      <th>0</th>\n",
       "      <td>35.25</td>\n",
       "      <td>35.50</td>\n",
       "      <td>35.75</td>\n",
       "      <td>36.00</td>\n",
       "      <td>35.25</td>\n",
       "      <td>35.75</td>\n",
       "      <td>35.50</td>\n",
       "      <td>35.75</td>\n",
       "      <td>35.50</td>\n",
       "      <td>35.75</td>\n",
       "      <td>...</td>\n",
       "      <td>33.00</td>\n",
       "      <td>33.50</td>\n",
       "      <td>33.50</td>\n",
       "      <td>33.25</td>\n",
       "      <td>33.75</td>\n",
       "      <td>33.50</td>\n",
       "      <td>33.25</td>\n",
       "      <td>amuse</td>\n",
       "      <td>p1</td>\n",
       "      <td>amuse.p1.1</td>\n",
       "    </tr>\n",
       "    <tr>\n",
       "      <th>1</th>\n",
       "      <td>35.75</td>\n",
       "      <td>35.75</td>\n",
       "      <td>36.25</td>\n",
       "      <td>35.50</td>\n",
       "      <td>36.00</td>\n",
       "      <td>35.75</td>\n",
       "      <td>35.25</td>\n",
       "      <td>35.50</td>\n",
       "      <td>36.00</td>\n",
       "      <td>36.25</td>\n",
       "      <td>...</td>\n",
       "      <td>33.00</td>\n",
       "      <td>33.75</td>\n",
       "      <td>33.50</td>\n",
       "      <td>33.75</td>\n",
       "      <td>34.50</td>\n",
       "      <td>34.00</td>\n",
       "      <td>34.25</td>\n",
       "      <td>amuse</td>\n",
       "      <td>p1</td>\n",
       "      <td>amuse.p1.1000</td>\n",
       "    </tr>\n",
       "    <tr>\n",
       "      <th>2</th>\n",
       "      <td>36.00</td>\n",
       "      <td>36.00</td>\n",
       "      <td>35.75</td>\n",
       "      <td>36.00</td>\n",
       "      <td>35.50</td>\n",
       "      <td>36.00</td>\n",
       "      <td>36.00</td>\n",
       "      <td>36.00</td>\n",
       "      <td>35.75</td>\n",
       "      <td>36.00</td>\n",
       "      <td>...</td>\n",
       "      <td>33.75</td>\n",
       "      <td>33.75</td>\n",
       "      <td>33.75</td>\n",
       "      <td>33.75</td>\n",
       "      <td>34.50</td>\n",
       "      <td>34.25</td>\n",
       "      <td>34.50</td>\n",
       "      <td>amuse</td>\n",
       "      <td>p1</td>\n",
       "      <td>amuse.p1.1003</td>\n",
       "    </tr>\n",
       "    <tr>\n",
       "      <th>3</th>\n",
       "      <td>35.75</td>\n",
       "      <td>35.75</td>\n",
       "      <td>35.75</td>\n",
       "      <td>36.25</td>\n",
       "      <td>36.25</td>\n",
       "      <td>35.75</td>\n",
       "      <td>35.75</td>\n",
       "      <td>35.75</td>\n",
       "      <td>35.75</td>\n",
       "      <td>36.25</td>\n",
       "      <td>...</td>\n",
       "      <td>33.00</td>\n",
       "      <td>33.25</td>\n",
       "      <td>33.75</td>\n",
       "      <td>34.00</td>\n",
       "      <td>34.25</td>\n",
       "      <td>34.25</td>\n",
       "      <td>35.00</td>\n",
       "      <td>amuse</td>\n",
       "      <td>p1</td>\n",
       "      <td>amuse.p1.1006</td>\n",
       "    </tr>\n",
       "    <tr>\n",
       "      <th>4</th>\n",
       "      <td>36.00</td>\n",
       "      <td>35.25</td>\n",
       "      <td>36.00</td>\n",
       "      <td>36.00</td>\n",
       "      <td>35.00</td>\n",
       "      <td>35.75</td>\n",
       "      <td>35.50</td>\n",
       "      <td>35.50</td>\n",
       "      <td>35.50</td>\n",
       "      <td>35.75</td>\n",
       "      <td>...</td>\n",
       "      <td>33.75</td>\n",
       "      <td>33.75</td>\n",
       "      <td>33.25</td>\n",
       "      <td>34.00</td>\n",
       "      <td>34.50</td>\n",
       "      <td>33.75</td>\n",
       "      <td>34.75</td>\n",
       "      <td>amuse</td>\n",
       "      <td>p1</td>\n",
       "      <td>amuse.p1.1009</td>\n",
       "    </tr>\n",
       "  </tbody>\n",
       "</table>\n",
       "<p>5 rows × 1155 columns</p>\n",
       "</div>"
      ],
      "text/plain": [
       "   s1.X1_mv1  s1.X1_mv2  s1.X1_mv3  s1.X2_mv1  s1.X2_mv2  s1.X2_mv3  \\\n",
       "0      35.25      35.50      35.75      36.00      35.25      35.75   \n",
       "1      35.75      35.75      36.25      35.50      36.00      35.75   \n",
       "2      36.00      36.00      35.75      36.00      35.50      36.00   \n",
       "3      35.75      35.75      35.75      36.25      36.25      35.75   \n",
       "4      36.00      35.25      36.00      36.00      35.00      35.75   \n",
       "\n",
       "   s1.X3_mv1  s1.X3_mv2  s1.X3_mv3  s1.X4_mv1  ...  s6.X62_mv3  s6.X63_mv1  \\\n",
       "0      35.50      35.75      35.50      35.75  ...       33.00       33.50   \n",
       "1      35.25      35.50      36.00      36.25  ...       33.00       33.75   \n",
       "2      36.00      36.00      35.75      36.00  ...       33.75       33.75   \n",
       "3      35.75      35.75      35.75      36.25  ...       33.00       33.25   \n",
       "4      35.50      35.50      35.50      35.75  ...       33.75       33.75   \n",
       "\n",
       "   s6.X63_mv2  s6.X63_mv3  s6.X64_mv1  s6.X64_mv2  s6.X64_mv3  class   p  \\\n",
       "0       33.50       33.25       33.75       33.50       33.25  amuse  p1   \n",
       "1       33.50       33.75       34.50       34.00       34.25  amuse  p1   \n",
       "2       33.75       33.75       34.50       34.25       34.50  amuse  p1   \n",
       "3       33.75       34.00       34.25       34.25       35.00  amuse  p1   \n",
       "4       33.25       34.00       34.50       33.75       34.75  amuse  p1   \n",
       "\n",
       "              id  \n",
       "0     amuse.p1.1  \n",
       "1  amuse.p1.1000  \n",
       "2  amuse.p1.1003  \n",
       "3  amuse.p1.1006  \n",
       "4  amuse.p1.1009  \n",
       "\n",
       "[5 rows x 1155 columns]"
      ]
     },
     "execution_count": 479,
     "metadata": {},
     "output_type": "execute_result"
    }
   ],
   "source": [
    "data.head()"
   ]
  },
  {
   "cell_type": "code",
   "execution_count": null,
   "id": "ec28fa24",
   "metadata": {},
   "outputs": [],
   "source": []
  },
  {
   "cell_type": "code",
   "execution_count": null,
   "id": "f9aeddb2",
   "metadata": {},
   "outputs": [],
   "source": []
  },
  {
   "cell_type": "markdown",
   "id": "2697c1ac",
   "metadata": {},
   "source": [
    "## split to 17/1"
   ]
  },
  {
   "cell_type": "code",
   "execution_count": null,
   "id": "57c0667d",
   "metadata": {},
   "outputs": [],
   "source": [
    "# overall split by 17 / 1\n",
    "train = data.loc[data['p'] != 'p18', :] \n",
    "test = data.loc[data['p'] == 'p18', :]"
   ]
  },
  {
   "cell_type": "code",
   "execution_count": 480,
   "id": "5ff5cd0d",
   "metadata": {},
   "outputs": [
    {
     "data": {
      "text/plain": [
       "(50473, 1155)"
      ]
     },
     "execution_count": 480,
     "metadata": {},
     "output_type": "execute_result"
    }
   ],
   "source": [
    "train.shape"
   ]
  },
  {
   "cell_type": "markdown",
   "id": "50eecfd1",
   "metadata": {},
   "source": [
    "## Shuffle 17 (train)\n",
    "\n",
    "Shuffle and reset index"
   ]
  },
  {
   "cell_type": "code",
   "execution_count": 70,
   "id": "396f53f0",
   "metadata": {},
   "outputs": [],
   "source": [
    "# shuffle all rows using sample() with frac=1, then reset index\n",
    "train = train.sample(frac=1).reset_index(drop=True)"
   ]
  },
  {
   "cell_type": "code",
   "execution_count": 71,
   "id": "0351b03b",
   "metadata": {
    "scrolled": false
   },
   "outputs": [
    {
     "data": {
      "text/html": [
       "<div>\n",
       "<style scoped>\n",
       "    .dataframe tbody tr th:only-of-type {\n",
       "        vertical-align: middle;\n",
       "    }\n",
       "\n",
       "    .dataframe tbody tr th {\n",
       "        vertical-align: top;\n",
       "    }\n",
       "\n",
       "    .dataframe thead th {\n",
       "        text-align: right;\n",
       "    }\n",
       "</style>\n",
       "<table border=\"1\" class=\"dataframe\">\n",
       "  <thead>\n",
       "    <tr style=\"text-align: right;\">\n",
       "      <th></th>\n",
       "      <th>s1.X1_mv1</th>\n",
       "      <th>s1.X1_mv2</th>\n",
       "      <th>s1.X1_mv3</th>\n",
       "      <th>s1.X2_mv1</th>\n",
       "      <th>s1.X2_mv2</th>\n",
       "      <th>s1.X2_mv3</th>\n",
       "      <th>s1.X3_mv1</th>\n",
       "      <th>s1.X3_mv2</th>\n",
       "      <th>s1.X3_mv3</th>\n",
       "      <th>s1.X4_mv1</th>\n",
       "      <th>...</th>\n",
       "      <th>s6.X62_mv3</th>\n",
       "      <th>s6.X63_mv1</th>\n",
       "      <th>s6.X63_mv2</th>\n",
       "      <th>s6.X63_mv3</th>\n",
       "      <th>s6.X64_mv1</th>\n",
       "      <th>s6.X64_mv2</th>\n",
       "      <th>s6.X64_mv3</th>\n",
       "      <th>class</th>\n",
       "      <th>p</th>\n",
       "      <th>id</th>\n",
       "    </tr>\n",
       "  </thead>\n",
       "  <tbody>\n",
       "    <tr>\n",
       "      <th>0</th>\n",
       "      <td>38.25</td>\n",
       "      <td>38.25</td>\n",
       "      <td>38.50</td>\n",
       "      <td>38.00</td>\n",
       "      <td>38.25</td>\n",
       "      <td>38.75</td>\n",
       "      <td>38.50</td>\n",
       "      <td>38.25</td>\n",
       "      <td>38.50</td>\n",
       "      <td>38.00</td>\n",
       "      <td>...</td>\n",
       "      <td>35.5</td>\n",
       "      <td>35.50</td>\n",
       "      <td>35.75</td>\n",
       "      <td>36.25</td>\n",
       "      <td>36.50</td>\n",
       "      <td>36.50</td>\n",
       "      <td>36.50</td>\n",
       "      <td>count</td>\n",
       "      <td>p2</td>\n",
       "      <td>count.p2.389</td>\n",
       "    </tr>\n",
       "    <tr>\n",
       "      <th>1</th>\n",
       "      <td>38.00</td>\n",
       "      <td>38.00</td>\n",
       "      <td>38.25</td>\n",
       "      <td>38.00</td>\n",
       "      <td>38.00</td>\n",
       "      <td>38.25</td>\n",
       "      <td>38.00</td>\n",
       "      <td>37.50</td>\n",
       "      <td>37.75</td>\n",
       "      <td>37.75</td>\n",
       "      <td>...</td>\n",
       "      <td>33.0</td>\n",
       "      <td>33.25</td>\n",
       "      <td>33.00</td>\n",
       "      <td>33.75</td>\n",
       "      <td>34.00</td>\n",
       "      <td>34.00</td>\n",
       "      <td>34.00</td>\n",
       "      <td>focus</td>\n",
       "      <td>p15</td>\n",
       "      <td>focus.p15.340</td>\n",
       "    </tr>\n",
       "    <tr>\n",
       "      <th>2</th>\n",
       "      <td>37.00</td>\n",
       "      <td>37.25</td>\n",
       "      <td>37.25</td>\n",
       "      <td>37.00</td>\n",
       "      <td>37.25</td>\n",
       "      <td>37.25</td>\n",
       "      <td>37.00</td>\n",
       "      <td>37.00</td>\n",
       "      <td>37.25</td>\n",
       "      <td>37.25</td>\n",
       "      <td>...</td>\n",
       "      <td>35.0</td>\n",
       "      <td>36.00</td>\n",
       "      <td>35.25</td>\n",
       "      <td>35.25</td>\n",
       "      <td>36.00</td>\n",
       "      <td>36.00</td>\n",
       "      <td>36.25</td>\n",
       "      <td>sadness</td>\n",
       "      <td>p8</td>\n",
       "      <td>sadness.p8.267</td>\n",
       "    </tr>\n",
       "    <tr>\n",
       "      <th>3</th>\n",
       "      <td>37.50</td>\n",
       "      <td>37.00</td>\n",
       "      <td>38.00</td>\n",
       "      <td>37.25</td>\n",
       "      <td>37.25</td>\n",
       "      <td>37.25</td>\n",
       "      <td>37.50</td>\n",
       "      <td>37.50</td>\n",
       "      <td>37.00</td>\n",
       "      <td>37.25</td>\n",
       "      <td>...</td>\n",
       "      <td>34.5</td>\n",
       "      <td>34.25</td>\n",
       "      <td>34.00</td>\n",
       "      <td>34.25</td>\n",
       "      <td>35.00</td>\n",
       "      <td>34.75</td>\n",
       "      <td>34.50</td>\n",
       "      <td>disgust</td>\n",
       "      <td>p16</td>\n",
       "      <td>disgust.p16.312</td>\n",
       "    </tr>\n",
       "    <tr>\n",
       "      <th>4</th>\n",
       "      <td>37.00</td>\n",
       "      <td>37.25</td>\n",
       "      <td>37.25</td>\n",
       "      <td>37.75</td>\n",
       "      <td>37.50</td>\n",
       "      <td>36.75</td>\n",
       "      <td>37.25</td>\n",
       "      <td>37.50</td>\n",
       "      <td>37.00</td>\n",
       "      <td>37.25</td>\n",
       "      <td>...</td>\n",
       "      <td>31.0</td>\n",
       "      <td>31.50</td>\n",
       "      <td>31.25</td>\n",
       "      <td>31.75</td>\n",
       "      <td>32.25</td>\n",
       "      <td>32.50</td>\n",
       "      <td>32.00</td>\n",
       "      <td>amuse</td>\n",
       "      <td>p15</td>\n",
       "      <td>amuse.p15.877</td>\n",
       "    </tr>\n",
       "  </tbody>\n",
       "</table>\n",
       "<p>5 rows × 1155 columns</p>\n",
       "</div>"
      ],
      "text/plain": [
       "   s1.X1_mv1  s1.X1_mv2  s1.X1_mv3  s1.X2_mv1  s1.X2_mv2  s1.X2_mv3  \\\n",
       "0      38.25      38.25      38.50      38.00      38.25      38.75   \n",
       "1      38.00      38.00      38.25      38.00      38.00      38.25   \n",
       "2      37.00      37.25      37.25      37.00      37.25      37.25   \n",
       "3      37.50      37.00      38.00      37.25      37.25      37.25   \n",
       "4      37.00      37.25      37.25      37.75      37.50      36.75   \n",
       "\n",
       "   s1.X3_mv1  s1.X3_mv2  s1.X3_mv3  s1.X4_mv1  ...  s6.X62_mv3  s6.X63_mv1  \\\n",
       "0      38.50      38.25      38.50      38.00  ...        35.5       35.50   \n",
       "1      38.00      37.50      37.75      37.75  ...        33.0       33.25   \n",
       "2      37.00      37.00      37.25      37.25  ...        35.0       36.00   \n",
       "3      37.50      37.50      37.00      37.25  ...        34.5       34.25   \n",
       "4      37.25      37.50      37.00      37.25  ...        31.0       31.50   \n",
       "\n",
       "   s6.X63_mv2  s6.X63_mv3  s6.X64_mv1  s6.X64_mv2  s6.X64_mv3    class    p  \\\n",
       "0       35.75       36.25       36.50       36.50       36.50    count   p2   \n",
       "1       33.00       33.75       34.00       34.00       34.00    focus  p15   \n",
       "2       35.25       35.25       36.00       36.00       36.25  sadness   p8   \n",
       "3       34.00       34.25       35.00       34.75       34.50  disgust  p16   \n",
       "4       31.25       31.75       32.25       32.50       32.00    amuse  p15   \n",
       "\n",
       "                id  \n",
       "0     count.p2.389  \n",
       "1    focus.p15.340  \n",
       "2   sadness.p8.267  \n",
       "3  disgust.p16.312  \n",
       "4    amuse.p15.877  \n",
       "\n",
       "[5 rows x 1155 columns]"
      ]
     },
     "execution_count": 71,
     "metadata": {},
     "output_type": "execute_result"
    }
   ],
   "source": [
    "train.head()"
   ]
  },
  {
   "cell_type": "markdown",
   "id": "72e2ae19",
   "metadata": {},
   "source": [
    "## check outliers and drop rows"
   ]
  },
  {
   "cell_type": "code",
   "execution_count": 572,
   "id": "678cd8d5",
   "metadata": {},
   "outputs": [
    {
     "data": {
      "text/plain": [
       "31.25    211\n",
       "31.50    150\n",
       "32.00    141\n",
       "31.75    116\n",
       "31.00    112\n",
       "32.25    105\n",
       "32.50     71\n",
       "29.75     57\n",
       "30.00     49\n",
       "30.75     36\n",
       "30.25     31\n",
       "29.50     29\n",
       "30.50     22\n",
       "32.75      8\n",
       "29.25      7\n",
       "29.00      4\n",
       "0.75       1\n",
       "28.75      1\n",
       "1.30       1\n",
       "Name: min, dtype: int64"
      ]
     },
     "execution_count": 572,
     "metadata": {},
     "output_type": "execute_result"
    }
   ],
   "source": [
    "min_list = train.describe().T.loc[:, 'min']\n",
    "min_list.value_counts()"
   ]
  },
  {
   "cell_type": "code",
   "execution_count": 573,
   "id": "8cf6655e",
   "metadata": {},
   "outputs": [
    {
     "name": "stdout",
     "output_type": "stream",
     "text": [
      "(50473, 1155)\n",
      "(50471, 1155)\n"
     ]
    }
   ],
   "source": [
    "print(train.shape)\n",
    "print(train[~(train.iloc[:,0:1152] <= 5).any(axis=1)].shape)"
   ]
  },
  {
   "cell_type": "code",
   "execution_count": 575,
   "id": "f86b0b32",
   "metadata": {},
   "outputs": [],
   "source": [
    "# drop rows with extreme low channel values: <=5 (0.75, 1.3, etc..)\n",
    "train = train[~(train.iloc[:, 0:1152] <= 5).any(axis=1)]\n",
    "test = test[~(test.iloc[:, 0:1152] <= 5).any(axis=1)]"
   ]
  },
  {
   "cell_type": "code",
   "execution_count": 576,
   "id": "8febab99",
   "metadata": {},
   "outputs": [
    {
     "data": {
      "text/plain": [
       "31.25    211\n",
       "31.50    150\n",
       "32.00    141\n",
       "31.75    117\n",
       "31.00    112\n",
       "32.25    105\n",
       "32.50     71\n",
       "29.75     58\n",
       "30.00     49\n",
       "30.75     36\n",
       "30.25     31\n",
       "29.50     29\n",
       "30.50     22\n",
       "32.75      8\n",
       "29.25      7\n",
       "29.00      4\n",
       "28.75      1\n",
       "Name: min, dtype: int64"
      ]
     },
     "execution_count": 576,
     "metadata": {},
     "output_type": "execute_result"
    }
   ],
   "source": [
    "train.describe().T.loc[:,'min'].value_counts()"
   ]
  },
  {
   "cell_type": "markdown",
   "id": "76f703c4",
   "metadata": {},
   "source": [
    "## reset index"
   ]
  },
  {
   "cell_type": "code",
   "execution_count": 584,
   "id": "bb7758a5",
   "metadata": {},
   "outputs": [],
   "source": [
    "# reset index\n",
    "train.index = range(train.shape[0])\n",
    "test.index = range(test.shape[0])"
   ]
  },
  {
   "cell_type": "markdown",
   "id": "11c7a03b",
   "metadata": {},
   "source": [
    "## split to Xtrain Xtest Ytrain Ytest"
   ]
  },
  {
   "cell_type": "code",
   "execution_count": 618,
   "id": "b019c998",
   "metadata": {
    "scrolled": true
   },
   "outputs": [
    {
     "name": "stdout",
     "output_type": "stream",
     "text": [
      "(50471, 1152) (2971, 1152) (50471,) (2971,)\n"
     ]
    }
   ],
   "source": [
    "# train/test split \n",
    "Xtrain = train.iloc[:, 0:1152]\n",
    "Xtest = test.iloc[:, 0:1152]\n",
    "Ytrain = train.loc[:, 'class']\n",
    "Ytest = test.loc[:, 'class']\n",
    "print(Xtrain.shape, Xtest.shape, Ytrain.shape, Ytest.shape)"
   ]
  },
  {
   "cell_type": "markdown",
   "id": "69c5cc0c",
   "metadata": {},
   "source": [
    "## Normalize\n",
    "\n",
    "Normalize to image-like 0~255, and try as 'uint8'"
   ]
  },
  {
   "cell_type": "code",
   "execution_count": 619,
   "id": "341e6332",
   "metadata": {
    "scrolled": true
   },
   "outputs": [
    {
     "data": {
      "text/plain": [
       "(28.75, 40.75)"
      ]
     },
     "execution_count": 619,
     "metadata": {},
     "output_type": "execute_result"
    }
   ],
   "source": [
    "Xtrain.min().min(), Xtrain.max().max()"
   ]
  },
  {
   "cell_type": "code",
   "execution_count": 620,
   "id": "ed3af843",
   "metadata": {},
   "outputs": [
    {
     "data": {
      "text/plain": [
       "Index(['s1.X1_mv1', 's1.X1_mv2', 's1.X1_mv3', 's1.X2_mv1', 's1.X2_mv2',\n",
       "       's1.X2_mv3', 's1.X3_mv1', 's1.X3_mv2', 's1.X3_mv3', 's1.X4_mv1',\n",
       "       ...\n",
       "       's6.X61_mv3', 's6.X62_mv1', 's6.X62_mv2', 's6.X62_mv3', 's6.X63_mv1',\n",
       "       's6.X63_mv2', 's6.X63_mv3', 's6.X64_mv1', 's6.X64_mv2', 's6.X64_mv3'],\n",
       "      dtype='object', length=1152)"
      ]
     },
     "execution_count": 620,
     "metadata": {},
     "output_type": "execute_result"
    }
   ],
   "source": [
    "Xtrain.columns"
   ]
  },
  {
   "cell_type": "code",
   "execution_count": 621,
   "id": "315a55eb",
   "metadata": {},
   "outputs": [
    {
     "data": {
      "text/plain": [
       "(50471, 1152)"
      ]
     },
     "execution_count": 621,
     "metadata": {},
     "output_type": "execute_result"
    }
   ],
   "source": [
    "# normalize to 0~255\n",
    "Xtrain_scale = np.array(Xtrain.copy())\n",
    "Xtrain_scale = cv2.normalize(Xtrain_scale, None, alpha=0, beta=255, norm_type=cv2.NORM_MINMAX, dtype=cv2.CV_32F)\n",
    "Xtrain_scale = pd.DataFrame(Xtrain_scale, columns=Xtrain.columns)\n",
    "Xtrain_scale.shape"
   ]
  },
  {
   "cell_type": "code",
   "execution_count": 625,
   "id": "b8c027e2",
   "metadata": {},
   "outputs": [
    {
     "data": {
      "text/plain": [
       "(0.0, 255.0)"
      ]
     },
     "execution_count": 625,
     "metadata": {},
     "output_type": "execute_result"
    }
   ],
   "source": [
    "Xtrain_scale.min().min(), Xtrain_scale.max().max()"
   ]
  },
  {
   "cell_type": "code",
   "execution_count": 623,
   "id": "75313add",
   "metadata": {},
   "outputs": [
    {
     "data": {
      "text/html": [
       "<div>\n",
       "<style scoped>\n",
       "    .dataframe tbody tr th:only-of-type {\n",
       "        vertical-align: middle;\n",
       "    }\n",
       "\n",
       "    .dataframe tbody tr th {\n",
       "        vertical-align: top;\n",
       "    }\n",
       "\n",
       "    .dataframe thead th {\n",
       "        text-align: right;\n",
       "    }\n",
       "</style>\n",
       "<table border=\"1\" class=\"dataframe\">\n",
       "  <thead>\n",
       "    <tr style=\"text-align: right;\">\n",
       "      <th></th>\n",
       "      <th>s1.X1_mv1</th>\n",
       "      <th>s1.X1_mv2</th>\n",
       "      <th>s1.X1_mv3</th>\n",
       "      <th>s1.X2_mv1</th>\n",
       "      <th>s1.X2_mv2</th>\n",
       "      <th>s1.X2_mv3</th>\n",
       "      <th>s1.X3_mv1</th>\n",
       "      <th>s1.X3_mv2</th>\n",
       "      <th>s1.X3_mv3</th>\n",
       "      <th>s1.X4_mv1</th>\n",
       "      <th>...</th>\n",
       "      <th>s6.X61_mv3</th>\n",
       "      <th>s6.X62_mv1</th>\n",
       "      <th>s6.X62_mv2</th>\n",
       "      <th>s6.X62_mv3</th>\n",
       "      <th>s6.X63_mv1</th>\n",
       "      <th>s6.X63_mv2</th>\n",
       "      <th>s6.X63_mv3</th>\n",
       "      <th>s6.X64_mv1</th>\n",
       "      <th>s6.X64_mv2</th>\n",
       "      <th>s6.X64_mv3</th>\n",
       "    </tr>\n",
       "  </thead>\n",
       "  <tbody>\n",
       "    <tr>\n",
       "      <th>0</th>\n",
       "      <td>201.8750</td>\n",
       "      <td>201.8750</td>\n",
       "      <td>207.1875</td>\n",
       "      <td>196.5625</td>\n",
       "      <td>201.8750</td>\n",
       "      <td>212.500</td>\n",
       "      <td>207.1875</td>\n",
       "      <td>201.8750</td>\n",
       "      <td>207.1875</td>\n",
       "      <td>196.5625</td>\n",
       "      <td>...</td>\n",
       "      <td>148.7500</td>\n",
       "      <td>148.7500</td>\n",
       "      <td>154.0625</td>\n",
       "      <td>143.4375</td>\n",
       "      <td>143.4375</td>\n",
       "      <td>148.7500</td>\n",
       "      <td>159.375</td>\n",
       "      <td>164.6875</td>\n",
       "      <td>164.6875</td>\n",
       "      <td>164.6875</td>\n",
       "    </tr>\n",
       "    <tr>\n",
       "      <th>1</th>\n",
       "      <td>196.5625</td>\n",
       "      <td>196.5625</td>\n",
       "      <td>201.8750</td>\n",
       "      <td>196.5625</td>\n",
       "      <td>196.5625</td>\n",
       "      <td>201.875</td>\n",
       "      <td>196.5625</td>\n",
       "      <td>185.9375</td>\n",
       "      <td>191.2500</td>\n",
       "      <td>191.2500</td>\n",
       "      <td>...</td>\n",
       "      <td>95.6250</td>\n",
       "      <td>100.9375</td>\n",
       "      <td>100.9375</td>\n",
       "      <td>90.3125</td>\n",
       "      <td>95.6250</td>\n",
       "      <td>90.3125</td>\n",
       "      <td>106.250</td>\n",
       "      <td>111.5625</td>\n",
       "      <td>111.5625</td>\n",
       "      <td>111.5625</td>\n",
       "    </tr>\n",
       "    <tr>\n",
       "      <th>2</th>\n",
       "      <td>175.3125</td>\n",
       "      <td>180.6250</td>\n",
       "      <td>180.6250</td>\n",
       "      <td>175.3125</td>\n",
       "      <td>180.6250</td>\n",
       "      <td>180.625</td>\n",
       "      <td>175.3125</td>\n",
       "      <td>175.3125</td>\n",
       "      <td>180.6250</td>\n",
       "      <td>180.6250</td>\n",
       "      <td>...</td>\n",
       "      <td>138.1250</td>\n",
       "      <td>132.8125</td>\n",
       "      <td>138.1250</td>\n",
       "      <td>132.8125</td>\n",
       "      <td>154.0625</td>\n",
       "      <td>138.1250</td>\n",
       "      <td>138.125</td>\n",
       "      <td>154.0625</td>\n",
       "      <td>154.0625</td>\n",
       "      <td>159.3750</td>\n",
       "    </tr>\n",
       "    <tr>\n",
       "      <th>3</th>\n",
       "      <td>185.9375</td>\n",
       "      <td>175.3125</td>\n",
       "      <td>196.5625</td>\n",
       "      <td>180.6250</td>\n",
       "      <td>180.6250</td>\n",
       "      <td>180.625</td>\n",
       "      <td>185.9375</td>\n",
       "      <td>185.9375</td>\n",
       "      <td>175.3125</td>\n",
       "      <td>180.6250</td>\n",
       "      <td>...</td>\n",
       "      <td>122.1875</td>\n",
       "      <td>111.5625</td>\n",
       "      <td>116.8750</td>\n",
       "      <td>122.1875</td>\n",
       "      <td>116.8750</td>\n",
       "      <td>111.5625</td>\n",
       "      <td>116.875</td>\n",
       "      <td>132.8125</td>\n",
       "      <td>127.5000</td>\n",
       "      <td>122.1875</td>\n",
       "    </tr>\n",
       "    <tr>\n",
       "      <th>4</th>\n",
       "      <td>175.3125</td>\n",
       "      <td>180.6250</td>\n",
       "      <td>180.6250</td>\n",
       "      <td>191.2500</td>\n",
       "      <td>185.9375</td>\n",
       "      <td>170.000</td>\n",
       "      <td>180.6250</td>\n",
       "      <td>185.9375</td>\n",
       "      <td>175.3125</td>\n",
       "      <td>180.6250</td>\n",
       "      <td>...</td>\n",
       "      <td>53.1250</td>\n",
       "      <td>58.4375</td>\n",
       "      <td>53.1250</td>\n",
       "      <td>47.8125</td>\n",
       "      <td>58.4375</td>\n",
       "      <td>53.1250</td>\n",
       "      <td>63.750</td>\n",
       "      <td>74.3750</td>\n",
       "      <td>79.6875</td>\n",
       "      <td>69.0625</td>\n",
       "    </tr>\n",
       "  </tbody>\n",
       "</table>\n",
       "<p>5 rows × 1152 columns</p>\n",
       "</div>"
      ],
      "text/plain": [
       "   s1.X1_mv1  s1.X1_mv2  s1.X1_mv3  s1.X2_mv1  s1.X2_mv2  s1.X2_mv3  \\\n",
       "0   201.8750   201.8750   207.1875   196.5625   201.8750    212.500   \n",
       "1   196.5625   196.5625   201.8750   196.5625   196.5625    201.875   \n",
       "2   175.3125   180.6250   180.6250   175.3125   180.6250    180.625   \n",
       "3   185.9375   175.3125   196.5625   180.6250   180.6250    180.625   \n",
       "4   175.3125   180.6250   180.6250   191.2500   185.9375    170.000   \n",
       "\n",
       "   s1.X3_mv1  s1.X3_mv2  s1.X3_mv3  s1.X4_mv1  ...  s6.X61_mv3  s6.X62_mv1  \\\n",
       "0   207.1875   201.8750   207.1875   196.5625  ...    148.7500    148.7500   \n",
       "1   196.5625   185.9375   191.2500   191.2500  ...     95.6250    100.9375   \n",
       "2   175.3125   175.3125   180.6250   180.6250  ...    138.1250    132.8125   \n",
       "3   185.9375   185.9375   175.3125   180.6250  ...    122.1875    111.5625   \n",
       "4   180.6250   185.9375   175.3125   180.6250  ...     53.1250     58.4375   \n",
       "\n",
       "   s6.X62_mv2  s6.X62_mv3  s6.X63_mv1  s6.X63_mv2  s6.X63_mv3  s6.X64_mv1  \\\n",
       "0    154.0625    143.4375    143.4375    148.7500     159.375    164.6875   \n",
       "1    100.9375     90.3125     95.6250     90.3125     106.250    111.5625   \n",
       "2    138.1250    132.8125    154.0625    138.1250     138.125    154.0625   \n",
       "3    116.8750    122.1875    116.8750    111.5625     116.875    132.8125   \n",
       "4     53.1250     47.8125     58.4375     53.1250      63.750     74.3750   \n",
       "\n",
       "   s6.X64_mv2  s6.X64_mv3  \n",
       "0    164.6875    164.6875  \n",
       "1    111.5625    111.5625  \n",
       "2    154.0625    159.3750  \n",
       "3    127.5000    122.1875  \n",
       "4     79.6875     69.0625  \n",
       "\n",
       "[5 rows x 1152 columns]"
      ]
     },
     "execution_count": 623,
     "metadata": {},
     "output_type": "execute_result"
    }
   ],
   "source": [
    "Xtrain_scale.head()"
   ]
  },
  {
   "cell_type": "code",
   "execution_count": 624,
   "id": "c913e723",
   "metadata": {},
   "outputs": [
    {
     "data": {
      "text/plain": [
       "(2971, 1152)"
      ]
     },
     "execution_count": 624,
     "metadata": {},
     "output_type": "execute_result"
    }
   ],
   "source": [
    "# apply the same to Xtest\n",
    "Xtest_scale = np.array(Xtest.copy())\n",
    "Xtest_scale = cv2.normalize(Xtest_scale, None, alpha=0, beta=255, norm_type=cv2.NORM_MINMAX, dtype=cv2.CV_32F)\n",
    "Xtest_scale = pd.DataFrame(Xtest_scale, columns=Xtest.columns)\n",
    "Xtest_scale.shape"
   ]
  },
  {
   "cell_type": "markdown",
   "id": "34c27800",
   "metadata": {},
   "source": [
    "## Add 4 features\n",
    "- mean\n",
    "- median\n",
    "- range\n",
    "- std"
   ]
  },
  {
   "cell_type": "code",
   "execution_count": 626,
   "id": "c8806d14",
   "metadata": {},
   "outputs": [
    {
     "name": "stdout",
     "output_type": "stream",
     "text": [
      "(50471, 1156) (2971, 1156) (50471,) (2971,)\n"
     ]
    }
   ],
   "source": [
    "Xtrain_scale['mean'] = Xtrain_scale.iloc[:, 0:1152].mean(axis=1)\n",
    "Xtrain_scale['median'] = Xtrain_scale.iloc[:, 0:1152].median(axis=1)\n",
    "Xtrain_scale['range'] = Xtrain_scale.iloc[:, 0:1152].max(axis=1) - Xtrain_scale.iloc[:, 0:1152].min(axis=1)\n",
    "Xtrain_scale['std'] = Xtrain_scale.iloc[:, 0:1152].std(axis=1)\n",
    "Xtest_scale['mean'] = Xtest_scale.iloc[:, 0:1152].mean(axis=1)\n",
    "Xtest_scale['median'] = Xtest_scale.iloc[:, 0:1152].median(axis=1)\n",
    "Xtest_scale['range'] = Xtest_scale.iloc[:, 0:1152].max(axis=1) - Xtest_scale.iloc[:, 0:1152].min(axis=1)\n",
    "Xtest_scale['std'] = Xtest_scale.iloc[:, 0:1152].std(axis=1)\n",
    "print(Xtrain_scale.shape, Xtest_scale.shape, Ytrain.shape, Ytest.shape)"
   ]
  },
  {
   "cell_type": "code",
   "execution_count": 627,
   "id": "b3a495e0",
   "metadata": {},
   "outputs": [
    {
     "name": "stdout",
     "output_type": "stream",
     "text": [
      "(50471, 1156)\n"
     ]
    },
    {
     "data": {
      "text/html": [
       "<div>\n",
       "<style scoped>\n",
       "    .dataframe tbody tr th:only-of-type {\n",
       "        vertical-align: middle;\n",
       "    }\n",
       "\n",
       "    .dataframe tbody tr th {\n",
       "        vertical-align: top;\n",
       "    }\n",
       "\n",
       "    .dataframe thead th {\n",
       "        text-align: right;\n",
       "    }\n",
       "</style>\n",
       "<table border=\"1\" class=\"dataframe\">\n",
       "  <thead>\n",
       "    <tr style=\"text-align: right;\">\n",
       "      <th></th>\n",
       "      <th>s1.X1_mv1</th>\n",
       "      <th>s1.X1_mv2</th>\n",
       "      <th>s1.X1_mv3</th>\n",
       "      <th>s1.X2_mv1</th>\n",
       "      <th>s1.X2_mv2</th>\n",
       "      <th>s1.X2_mv3</th>\n",
       "      <th>s1.X3_mv1</th>\n",
       "      <th>s1.X3_mv2</th>\n",
       "      <th>s1.X3_mv3</th>\n",
       "      <th>s1.X4_mv1</th>\n",
       "      <th>...</th>\n",
       "      <th>s6.X63_mv1</th>\n",
       "      <th>s6.X63_mv2</th>\n",
       "      <th>s6.X63_mv3</th>\n",
       "      <th>s6.X64_mv1</th>\n",
       "      <th>s6.X64_mv2</th>\n",
       "      <th>s6.X64_mv3</th>\n",
       "      <th>mean</th>\n",
       "      <th>median</th>\n",
       "      <th>range</th>\n",
       "      <th>std</th>\n",
       "    </tr>\n",
       "  </thead>\n",
       "  <tbody>\n",
       "    <tr>\n",
       "      <th>0</th>\n",
       "      <td>201.8750</td>\n",
       "      <td>201.8750</td>\n",
       "      <td>207.1875</td>\n",
       "      <td>196.5625</td>\n",
       "      <td>201.8750</td>\n",
       "      <td>212.500</td>\n",
       "      <td>207.1875</td>\n",
       "      <td>201.8750</td>\n",
       "      <td>207.1875</td>\n",
       "      <td>196.5625</td>\n",
       "      <td>...</td>\n",
       "      <td>143.4375</td>\n",
       "      <td>148.7500</td>\n",
       "      <td>159.375</td>\n",
       "      <td>164.6875</td>\n",
       "      <td>164.6875</td>\n",
       "      <td>164.6875</td>\n",
       "      <td>178.139374</td>\n",
       "      <td>185.9375</td>\n",
       "      <td>106.250</td>\n",
       "      <td>24.760309</td>\n",
       "    </tr>\n",
       "    <tr>\n",
       "      <th>1</th>\n",
       "      <td>196.5625</td>\n",
       "      <td>196.5625</td>\n",
       "      <td>201.8750</td>\n",
       "      <td>196.5625</td>\n",
       "      <td>196.5625</td>\n",
       "      <td>201.875</td>\n",
       "      <td>196.5625</td>\n",
       "      <td>185.9375</td>\n",
       "      <td>191.2500</td>\n",
       "      <td>191.2500</td>\n",
       "      <td>...</td>\n",
       "      <td>95.6250</td>\n",
       "      <td>90.3125</td>\n",
       "      <td>106.250</td>\n",
       "      <td>111.5625</td>\n",
       "      <td>111.5625</td>\n",
       "      <td>111.5625</td>\n",
       "      <td>165.374619</td>\n",
       "      <td>175.3125</td>\n",
       "      <td>138.125</td>\n",
       "      <td>31.233812</td>\n",
       "    </tr>\n",
       "    <tr>\n",
       "      <th>2</th>\n",
       "      <td>175.3125</td>\n",
       "      <td>180.6250</td>\n",
       "      <td>180.6250</td>\n",
       "      <td>175.3125</td>\n",
       "      <td>180.6250</td>\n",
       "      <td>180.625</td>\n",
       "      <td>175.3125</td>\n",
       "      <td>175.3125</td>\n",
       "      <td>180.6250</td>\n",
       "      <td>180.6250</td>\n",
       "      <td>...</td>\n",
       "      <td>154.0625</td>\n",
       "      <td>138.1250</td>\n",
       "      <td>138.125</td>\n",
       "      <td>154.0625</td>\n",
       "      <td>154.0625</td>\n",
       "      <td>159.3750</td>\n",
       "      <td>163.580734</td>\n",
       "      <td>164.6875</td>\n",
       "      <td>85.000</td>\n",
       "      <td>15.363285</td>\n",
       "    </tr>\n",
       "    <tr>\n",
       "      <th>3</th>\n",
       "      <td>185.9375</td>\n",
       "      <td>175.3125</td>\n",
       "      <td>196.5625</td>\n",
       "      <td>180.6250</td>\n",
       "      <td>180.6250</td>\n",
       "      <td>180.625</td>\n",
       "      <td>185.9375</td>\n",
       "      <td>185.9375</td>\n",
       "      <td>175.3125</td>\n",
       "      <td>180.6250</td>\n",
       "      <td>...</td>\n",
       "      <td>116.8750</td>\n",
       "      <td>111.5625</td>\n",
       "      <td>116.875</td>\n",
       "      <td>132.8125</td>\n",
       "      <td>127.5000</td>\n",
       "      <td>122.1875</td>\n",
       "      <td>158.821609</td>\n",
       "      <td>164.6875</td>\n",
       "      <td>116.875</td>\n",
       "      <td>23.197155</td>\n",
       "    </tr>\n",
       "    <tr>\n",
       "      <th>4</th>\n",
       "      <td>175.3125</td>\n",
       "      <td>180.6250</td>\n",
       "      <td>180.6250</td>\n",
       "      <td>191.2500</td>\n",
       "      <td>185.9375</td>\n",
       "      <td>170.000</td>\n",
       "      <td>180.6250</td>\n",
       "      <td>185.9375</td>\n",
       "      <td>175.3125</td>\n",
       "      <td>180.6250</td>\n",
       "      <td>...</td>\n",
       "      <td>58.4375</td>\n",
       "      <td>53.1250</td>\n",
       "      <td>63.750</td>\n",
       "      <td>74.3750</td>\n",
       "      <td>79.6875</td>\n",
       "      <td>69.0625</td>\n",
       "      <td>149.520126</td>\n",
       "      <td>159.3750</td>\n",
       "      <td>159.375</td>\n",
       "      <td>38.468922</td>\n",
       "    </tr>\n",
       "  </tbody>\n",
       "</table>\n",
       "<p>5 rows × 1156 columns</p>\n",
       "</div>"
      ],
      "text/plain": [
       "   s1.X1_mv1  s1.X1_mv2  s1.X1_mv3  s1.X2_mv1  s1.X2_mv2  s1.X2_mv3  \\\n",
       "0   201.8750   201.8750   207.1875   196.5625   201.8750    212.500   \n",
       "1   196.5625   196.5625   201.8750   196.5625   196.5625    201.875   \n",
       "2   175.3125   180.6250   180.6250   175.3125   180.6250    180.625   \n",
       "3   185.9375   175.3125   196.5625   180.6250   180.6250    180.625   \n",
       "4   175.3125   180.6250   180.6250   191.2500   185.9375    170.000   \n",
       "\n",
       "   s1.X3_mv1  s1.X3_mv2  s1.X3_mv3  s1.X4_mv1  ...  s6.X63_mv1  s6.X63_mv2  \\\n",
       "0   207.1875   201.8750   207.1875   196.5625  ...    143.4375    148.7500   \n",
       "1   196.5625   185.9375   191.2500   191.2500  ...     95.6250     90.3125   \n",
       "2   175.3125   175.3125   180.6250   180.6250  ...    154.0625    138.1250   \n",
       "3   185.9375   185.9375   175.3125   180.6250  ...    116.8750    111.5625   \n",
       "4   180.6250   185.9375   175.3125   180.6250  ...     58.4375     53.1250   \n",
       "\n",
       "   s6.X63_mv3  s6.X64_mv1  s6.X64_mv2  s6.X64_mv3        mean    median  \\\n",
       "0     159.375    164.6875    164.6875    164.6875  178.139374  185.9375   \n",
       "1     106.250    111.5625    111.5625    111.5625  165.374619  175.3125   \n",
       "2     138.125    154.0625    154.0625    159.3750  163.580734  164.6875   \n",
       "3     116.875    132.8125    127.5000    122.1875  158.821609  164.6875   \n",
       "4      63.750     74.3750     79.6875     69.0625  149.520126  159.3750   \n",
       "\n",
       "     range        std  \n",
       "0  106.250  24.760309  \n",
       "1  138.125  31.233812  \n",
       "2   85.000  15.363285  \n",
       "3  116.875  23.197155  \n",
       "4  159.375  38.468922  \n",
       "\n",
       "[5 rows x 1156 columns]"
      ]
     },
     "execution_count": 627,
     "metadata": {},
     "output_type": "execute_result"
    }
   ],
   "source": [
    "print(Xtrain_scale.shape)\n",
    "Xtrain_scale.head()"
   ]
  },
  {
   "cell_type": "code",
   "execution_count": 73,
   "id": "eeeb840f",
   "metadata": {},
   "outputs": [],
   "source": [
    "# # load Y\n",
    "# train_Y = pd.read_csv(r'dataset\\train\\train_Y.csv')\n",
    "# train_Y = train_Y.drop(train_Y.columns[0], axis=1)\n",
    "# test_Y = pd.read_csv(r'dataset\\test\\test_Y.csv')\n",
    "# test_Y = test_Y.drop(test_Y.columns[0], axis=1)\n",
    "# print(train_Y.shape, test_Y.shape)\n",
    "\n",
    "# train_Y.rename(columns={'x':'label'}, inplace=True)\n",
    "# train_Y[['label', 'p','source']] = train_Y.label.str.split('.', expand=True)\n",
    "# test_Y.rename(columns={'x':'label'}, inplace=True)\n",
    "# test_Y[['label', 'p','source']] = test_Y.label.str.split('.', expand=True)\n",
    "# train_Y.head()"
   ]
  },
  {
   "cell_type": "code",
   "execution_count": 628,
   "id": "4fbdc0cf",
   "metadata": {},
   "outputs": [
    {
     "data": {
      "text/plain": [
       "0            count\n",
       "1            focus\n",
       "2          sadness\n",
       "3          disgust\n",
       "4            amuse\n",
       "           ...    \n",
       "50466        focus\n",
       "50467        relax\n",
       "50468        count\n",
       "50469    surprise1\n",
       "50470         fear\n",
       "Name: class, Length: 50471, dtype: object"
      ]
     },
     "execution_count": 628,
     "metadata": {},
     "output_type": "execute_result"
    }
   ],
   "source": [
    "Ytrain"
   ]
  },
  {
   "cell_type": "code",
   "execution_count": 1004,
   "id": "09daaa4d",
   "metadata": {},
   "outputs": [
    {
     "data": {
      "text/plain": [
       "fear         11009\n",
       "surprise2     9862\n",
       "amuse         8047\n",
       "anger         4831\n",
       "focus         4234\n",
       "disgust       3861\n",
       "count         3259\n",
       "relax         2841\n",
       "relax2        2248\n",
       "surprise1     1629\n",
       "sadness       1623\n",
       "Name: class, dtype: int64"
      ]
     },
     "execution_count": 1004,
     "metadata": {},
     "output_type": "execute_result"
    }
   ],
   "source": [
    "data['class'].value_counts()"
   ]
  },
  {
   "cell_type": "code",
   "execution_count": null,
   "id": "eecdde9c",
   "metadata": {},
   "outputs": [],
   "source": [
    "positive = ['amuse','relax','relax2','','','']\n",
    "negative = ['fear','','','','','']"
   ]
  },
  {
   "cell_type": "markdown",
   "id": "c9c8e9a8",
   "metadata": {},
   "source": [
    "Number of class in Ytrain"
   ]
  },
  {
   "cell_type": "code",
   "execution_count": 630,
   "id": "e45749b0",
   "metadata": {},
   "outputs": [
    {
     "data": {
      "text/plain": [
       "array(['amuse', 'anger', 'count', 'disgust', 'fear', 'focus', 'relax',\n",
       "       'relax2', 'sadness', 'surprise1', 'surprise2'], dtype=object)"
      ]
     },
     "execution_count": 630,
     "metadata": {},
     "output_type": "execute_result"
    }
   ],
   "source": [
    "np.unique(Ytrain)"
   ]
  },
  {
   "cell_type": "markdown",
   "id": "0c118baa",
   "metadata": {},
   "source": [
    "## Write normalized data to files"
   ]
  },
  {
   "cell_type": "code",
   "execution_count": 634,
   "id": "73cbe6ae",
   "metadata": {},
   "outputs": [],
   "source": [
    "# save to files\n",
    "Xtrain_scale.to_csv(r'G:\\My Drive\\U\\2022_WORK_UNISA\\WORK_UNISA\\Digital Capabilities Program\\project_rehabSwift\\stroke-sensors\\dataset\\train\\Xtrain_scale.csv', index=False)\n",
    "Xtest_scale.to_csv(r'G:\\My Drive\\U\\2022_WORK_UNISA\\WORK_UNISA\\Digital Capabilities Program\\project_rehabSwift\\stroke-sensors\\dataset\\test\\Xtest_scale.csv',index=False)\n",
    "Ytrain.to_csv(r'G:\\My Drive\\U\\2022_WORK_UNISA\\WORK_UNISA\\Digital Capabilities Program\\project_rehabSwift\\stroke-sensors\\dataset\\train\\Ytrain.csv', index=False)\n",
    "Ytest.to_csv(r'G:\\My Drive\\U\\2022_WORK_UNISA\\WORK_UNISA\\Digital Capabilities Program\\project_rehabSwift\\stroke-sensors\\dataset\\test\\Ytest.csv', index=False)"
   ]
  },
  {
   "cell_type": "markdown",
   "id": "b30ff2a4",
   "metadata": {},
   "source": [
    "# [Optional] Reload Xtrain Xtest Ytrain Ytest"
   ]
  },
  {
   "cell_type": "code",
   "execution_count": 206,
   "id": "b5c4e2c2",
   "metadata": {},
   "outputs": [],
   "source": [
    "# # reload\n",
    "# Xtrain_scale = pd.read_csv('dataset/train/Xtrain_scale.csv')\n",
    "# Xtest_scale = pd.read_csv('dataset/test/Xtest_scale.csv')\n",
    "# Ytrain = pd.read_csv('dataset/train/Ytrain.csv')\n",
    "# Ytest = pd.read_csv('dataset/test/Ytest.csv')\n",
    "# print(Xtrain_scale.shape, Xtest_scale.shape, Ytrain.shape, Ytest.shape)"
   ]
  },
  {
   "cell_type": "markdown",
   "id": "14f9db7c",
   "metadata": {},
   "source": [
    "# Reference model"
   ]
  },
  {
   "cell_type": "code",
   "execution_count": 676,
   "id": "63a1abbb",
   "metadata": {},
   "outputs": [
    {
     "data": {
      "text/plain": [
       "0           count\n",
       "1           focus\n",
       "2         sadness\n",
       "3         disgust\n",
       "4           amuse\n",
       "          ...    \n",
       "1995    surprise2\n",
       "1996      disgust\n",
       "1997        anger\n",
       "1998        focus\n",
       "1999        count\n",
       "Name: class, Length: 2000, dtype: object"
      ]
     },
     "execution_count": 676,
     "metadata": {},
     "output_type": "execute_result"
    }
   ],
   "source": [
    "Ytrain[:2000]"
   ]
  },
  {
   "cell_type": "code",
   "execution_count": 677,
   "id": "815548a7",
   "metadata": {},
   "outputs": [],
   "source": [
    "# train a LR with 5000 samples\n",
    "Xtrain_sample, Xtest_sample,Ytrain_sample,Ytest_sample = TTS(Xtrain[:2000],Ytrain[:2000],test_size=0.4, random_state=420)"
   ]
  },
  {
   "cell_type": "code",
   "execution_count": 678,
   "id": "d068baa7",
   "metadata": {},
   "outputs": [],
   "source": [
    "# np.unique(Ytrain_sample)"
   ]
  },
  {
   "cell_type": "code",
   "execution_count": 679,
   "id": "86eb3434",
   "metadata": {},
   "outputs": [
    {
     "name": "stderr",
     "output_type": "stream",
     "text": [
      "C:\\Users\\EricWang\\anaconda3\\lib\\site-packages\\sklearn\\utils\\optimize.py:210: ConvergenceWarning: newton-cg failed to converge. Increase the number of iterations.\n",
      "  warnings.warn(\n"
     ]
    }
   ],
   "source": [
    "# TIME WARNING: 10 mins\n",
    "clf = LR(random_state=420, solver='newton-cg').fit(Xtrain_sample, Ytrain_sample)"
   ]
  },
  {
   "cell_type": "code",
   "execution_count": 680,
   "id": "57255eb2",
   "metadata": {},
   "outputs": [
    {
     "data": {
      "text/plain": [
       "1.0"
      ]
     },
     "execution_count": 680,
     "metadata": {},
     "output_type": "execute_result"
    }
   ],
   "source": [
    "clf.score(Xtrain_sample, Ytrain_sample)"
   ]
  },
  {
   "cell_type": "code",
   "execution_count": 681,
   "id": "4dc7bbc1",
   "metadata": {},
   "outputs": [
    {
     "data": {
      "text/plain": [
       "0.39125"
      ]
     },
     "execution_count": 681,
     "metadata": {},
     "output_type": "execute_result"
    }
   ],
   "source": [
    "clf.score(Xtest_sample, Ytest_sample)"
   ]
  },
  {
   "cell_type": "code",
   "execution_count": 208,
   "id": "691fe6b0",
   "metadata": {
    "scrolled": false
   },
   "outputs": [],
   "source": [
    "# Xtest_sample.head()"
   ]
  },
  {
   "cell_type": "code",
   "execution_count": 132,
   "id": "e48e648c",
   "metadata": {},
   "outputs": [],
   "source": [
    "# select top n important features\n",
    "# weights = pd.DataFrame(abs(clf.coef_).mean(axis=0))\n",
    "# weights.sort_values(by=0, ascending=False).iloc[:1089, 0].index\n",
    "# idx = weights.sort_values(by=0, ascending=False).iloc[:1089,0].index # desc sort feature weights，then get first 1089 index"
   ]
  },
  {
   "cell_type": "code",
   "execution_count": null,
   "id": "1ddeed68",
   "metadata": {},
   "outputs": [],
   "source": [
    "# polynomial dimensionality increase\n",
    "# poly = PF(degree=2, interaction_only=True).fit(Xtrain_arr) \n",
    "# Xtrain_arr_ = poly.transform(Xtrain_arr)\n",
    "# Xtest_arr_ = poly.transform(Xtest_arr)\n",
    "# TIME WARNING: 40 mins\n",
    "# clf_ = LR(random_state=420, max_iter=100, solver='newton-cg').fit(Xtrain_arr_, Ytrain_arr)\n",
    "# clf_.score(Xtrain_arr_, Ytrain_arr)\n",
    "# clf_.score(Xtest_arr_, Ytest_arr)"
   ]
  },
  {
   "cell_type": "markdown",
   "id": "502d321f",
   "metadata": {},
   "source": [
    "# to array, reshape & to tensor\n",
    "\n",
    "using **scaled data**"
   ]
  },
  {
   "cell_type": "code",
   "execution_count": 657,
   "id": "6e3c6844",
   "metadata": {},
   "outputs": [],
   "source": [
    "# to array\n",
    "Xtrain_arr = Xtrain_scale.to_numpy()\n",
    "Xtest_arr = Xtest_scale.to_numpy()\n",
    "Ytrain_arr = Ytrain.values\n",
    "Ytest_arr = Ytest.values"
   ]
  },
  {
   "cell_type": "code",
   "execution_count": 659,
   "id": "6a281379",
   "metadata": {},
   "outputs": [
    {
     "name": "stdout",
     "output_type": "stream",
     "text": [
      "(50471, 1, 34, 34) (2971, 1, 34, 34)\n"
     ]
    }
   ],
   "source": [
    "# reshape\n",
    "Xtrain_arr = Xtrain_arr.reshape(Xtrain_arr.shape[0], 1, 34,34)\n",
    "Xtest_arr = Xtest_arr.reshape(Xtest_arr.shape[0], 1, 34,34)\n",
    "print(Xtrain_arr.shape, Xtest_arr.shape)"
   ]
  },
  {
   "cell_type": "code",
   "execution_count": 660,
   "id": "74bcb336",
   "metadata": {},
   "outputs": [
    {
     "name": "stdout",
     "output_type": "stream",
     "text": [
      "torch.Size([50471, 1, 34, 34]) torch.Size([2971, 1, 34, 34])\n"
     ]
    }
   ],
   "source": [
    "# to tensor\n",
    "Xtrain_ts = torch.tensor(Xtrain_arr)\n",
    "Xtest_ts = torch.tensor(Xtest_arr)\n",
    "print(Xtrain_ts.shape, Xtest_ts.shape)"
   ]
  },
  {
   "cell_type": "code",
   "execution_count": 675,
   "id": "ae0ef2be",
   "metadata": {},
   "outputs": [
    {
     "data": {
      "text/plain": [
       "tensor([[[196.5625, 196.5625, 191.2500,  ..., 191.2500, 191.2500, 196.5625],\n",
       "         [196.5625, 185.9375, 185.9375,  ..., 191.2500, 196.5625, 201.8750],\n",
       "         [185.9375, 201.8750, 201.8750,  ..., 180.6250, 180.6250, 191.2500],\n",
       "         ...,\n",
       "         [170.0000, 164.6875, 159.3750,  ..., 164.6875, 164.6875, 159.3750],\n",
       "         [154.0625, 154.0625, 154.0625,  ..., 154.0625, 164.6875, 154.0625],\n",
       "         [159.3750, 143.4375, 154.0625,  ..., 180.6250,  95.6250,  16.2963]]])"
      ]
     },
     "execution_count": 675,
     "metadata": {},
     "output_type": "execute_result"
    }
   ],
   "source": [
    "Xtrain_ts[-1]"
   ]
  },
  {
   "cell_type": "markdown",
   "id": "bbd8bfff",
   "metadata": {},
   "source": [
    "# Assemble complete dataset (X + Y)"
   ]
  },
  {
   "cell_type": "markdown",
   "id": "247760a9",
   "metadata": {},
   "source": [
    "## encode label"
   ]
  },
  {
   "cell_type": "code",
   "execution_count": 662,
   "id": "a4b3eafe",
   "metadata": {},
   "outputs": [
    {
     "name": "stdout",
     "output_type": "stream",
     "text": [
      "['amuse' 'anger' 'count' 'disgust' 'fear' 'focus' 'relax' 'relax2'\n",
      " 'sadness' 'surprise1' 'surprise2']\n"
     ]
    },
    {
     "data": {
      "text/plain": [
       "'count'"
      ]
     },
     "execution_count": 662,
     "metadata": {},
     "output_type": "execute_result"
    }
   ],
   "source": [
    "print(np.unique(Ytrain_arr))\n",
    "Ytrain_arr[0]"
   ]
  },
  {
   "cell_type": "code",
   "execution_count": 663,
   "id": "c6e7ef43",
   "metadata": {},
   "outputs": [
    {
     "data": {
      "text/plain": [
       "LabelEncoder()"
      ]
     },
     "execution_count": 663,
     "metadata": {},
     "output_type": "execute_result"
    }
   ],
   "source": [
    "le = LE()\n",
    "le.fit(Ytrain_arr)"
   ]
  },
  {
   "cell_type": "code",
   "execution_count": 664,
   "id": "32a34cf9",
   "metadata": {},
   "outputs": [
    {
     "data": {
      "text/plain": [
       "['amuse',\n",
       " 'anger',\n",
       " 'count',\n",
       " 'disgust',\n",
       " 'fear',\n",
       " 'focus',\n",
       " 'relax',\n",
       " 'relax2',\n",
       " 'sadness',\n",
       " 'surprise1',\n",
       " 'surprise2']"
      ]
     },
     "execution_count": 664,
     "metadata": {},
     "output_type": "execute_result"
    }
   ],
   "source": [
    "list(le.classes_)"
   ]
  },
  {
   "cell_type": "code",
   "execution_count": 670,
   "id": "ec864d44",
   "metadata": {},
   "outputs": [
    {
     "data": {
      "text/plain": [
       "array([2, 5, 8, ..., 2, 9, 4])"
      ]
     },
     "execution_count": 670,
     "metadata": {},
     "output_type": "execute_result"
    }
   ],
   "source": [
    "Ytrain_enc = le.transform(Ytrain_arr)\n",
    "Ytest_enc = le.transform(Ytest_arr)\n",
    "Ytrain_enc"
   ]
  },
  {
   "cell_type": "code",
   "execution_count": 666,
   "id": "3aa99b75",
   "metadata": {},
   "outputs": [],
   "source": [
    "# Ytrain_enc = np.array(Ytrain_enc)\n",
    "# Ytest_enc = np.array(Ytest_enc)"
   ]
  },
  {
   "cell_type": "code",
   "execution_count": 671,
   "id": "c5f33d53",
   "metadata": {},
   "outputs": [
    {
     "data": {
      "text/plain": [
       "array([ 0,  1,  2,  3,  4,  5,  6,  7,  8,  9, 10])"
      ]
     },
     "execution_count": 671,
     "metadata": {},
     "output_type": "execute_result"
    }
   ],
   "source": [
    "np.unique(Ytrain_enc)"
   ]
  },
  {
   "cell_type": "markdown",
   "id": "68d59c28",
   "metadata": {},
   "source": [
    "## dataset package using scaled data\n",
    "\n",
    "using **scaled data**"
   ]
  },
  {
   "cell_type": "code",
   "execution_count": 672,
   "id": "5634253f",
   "metadata": {},
   "outputs": [],
   "source": [
    "# package up\n",
    "dataset_train = TensorDataset(Xtrain_ts, torch.tensor(Ytrain_enc))\n",
    "dataset_test = TensorDataset(Xtest_ts, torch.tensor(Ytest_enc))"
   ]
  },
  {
   "cell_type": "code",
   "execution_count": 1068,
   "id": "728421f5",
   "metadata": {
    "scrolled": false
   },
   "outputs": [
    {
     "data": {
      "text/plain": [
       "tensor(2, dtype=torch.int32)"
      ]
     },
     "execution_count": 1068,
     "metadata": {},
     "output_type": "execute_result"
    }
   ],
   "source": [
    "dataset_train[0][1]"
   ]
  },
  {
   "cell_type": "code",
   "execution_count": 1130,
   "id": "e0f78917",
   "metadata": {},
   "outputs": [],
   "source": [
    "# print(Xtrain_ts.max().item(), Xtrain_ts.min().item())"
   ]
  },
  {
   "cell_type": "code",
   "execution_count": 1098,
   "id": "de7f9678",
   "metadata": {},
   "outputs": [],
   "source": [
    "class CustomDataset(Dataset):\n",
    "    \n",
    "    def __init__(self, Xtrain, Ytrain, transform=None):\n",
    "        '''\n",
    "        Xtrain: dataframe\n",
    "        Ytrain: dataframe\n",
    "        transform: \n",
    "        '''\n",
    "        super().__init__()\n",
    "        self.x = Xtrain.values\n",
    "        self.x = self.x.reshape(-1,1,34,34)\n",
    "        \n",
    "        self.y = Ytrain.values # categories\n",
    "        self.transform = transform\n",
    "        \n",
    "        le = LE() # label encoder\n",
    "        self.y = le.fit_transform(self.y) # encoded categories\n",
    "        \n",
    "        self.xtrain = torch.tensor(self.x, dtype=torch.float32)\n",
    "        self.ytrain = torch.tensor(self.y, dtype=torch.float32)\n",
    "        \n",
    "    def __len__(self):\n",
    "        return len(self.ytrain)\n",
    "    \n",
    "    def __info__(self):\n",
    "        print('CustomData')\n",
    "    \n",
    "    def __getitem__(self, idx):\n",
    "        if self.transform != None:\n",
    "            self.xtrain = self.transform(self.xtrain)\n",
    "            \n",
    "        return self.xtrain[idx], self.ytrain[idx]"
   ]
  },
  {
   "cell_type": "code",
   "execution_count": 1123,
   "id": "2b9f1103",
   "metadata": {},
   "outputs": [],
   "source": [
    "transform = transforms.Compose([transforms.CenterCrop(32) # crop to size: 32x32\n",
    "#                                , transforms.Normalize(0.5,0.5)\n",
    "                               ])"
   ]
  },
  {
   "cell_type": "code",
   "execution_count": 1127,
   "id": "b501888f",
   "metadata": {},
   "outputs": [],
   "source": [
    "dataset_train = CustomDataset(Xtrain_scale, Ytrain, transform)"
   ]
  },
  {
   "cell_type": "code",
   "execution_count": 1142,
   "id": "2db240ed",
   "metadata": {},
   "outputs": [
    {
     "name": "stdout",
     "output_type": "stream",
     "text": [
      "0 torch.Size([1, 32, 32]) tensor(2.)\n"
     ]
    }
   ],
   "source": [
    "for i, (inputs, labels) in enumerate(dataset_train):\n",
    "    print(i, inputs.shape, labels)\n",
    "    break"
   ]
  },
  {
   "cell_type": "code",
   "execution_count": 1145,
   "id": "fd84f596",
   "metadata": {},
   "outputs": [
    {
     "data": {
      "text/plain": [
       "50471"
      ]
     },
     "execution_count": 1145,
     "metadata": {},
     "output_type": "execute_result"
    }
   ],
   "source": [
    "dataset_train.__len__()"
   ]
  },
  {
   "cell_type": "code",
   "execution_count": 1139,
   "id": "42539a4d",
   "metadata": {},
   "outputs": [],
   "source": [
    "# Same to generate test dataset\n",
    "dataset_test = CustomDataset(Xtest_scale, Ytest, transform)"
   ]
  },
  {
   "cell_type": "code",
   "execution_count": 1141,
   "id": "6c25f420",
   "metadata": {},
   "outputs": [
    {
     "name": "stdout",
     "output_type": "stream",
     "text": [
      "0 torch.Size([1, 32, 32]) tensor(0.)\n"
     ]
    }
   ],
   "source": [
    "for i, (inputs, labels) in enumerate(dataset_test):\n",
    "    print(i, inputs.shape, labels)\n",
    "    break"
   ]
  },
  {
   "cell_type": "code",
   "execution_count": null,
   "id": "b0e2c62b",
   "metadata": {},
   "outputs": [],
   "source": []
  },
  {
   "cell_type": "markdown",
   "id": "977dcab2",
   "metadata": {},
   "source": [
    "## Resize & Crop [Optional]\n",
    "\n",
    "CenterCrop to 32*32"
   ]
  },
  {
   "cell_type": "code",
   "execution_count": null,
   "id": "1511ad30",
   "metadata": {},
   "outputs": [],
   "source": [
    "# use transforms.Compose() to pack some steps together\n",
    "transform = transforms.Compose([transforms.CenterCrop(32)]) # crop to size: 32x32"
   ]
  },
  {
   "cell_type": "code",
   "execution_count": 793,
   "id": "3c283c6a",
   "metadata": {},
   "outputs": [
    {
     "data": {
      "text/plain": [
       "tensor(2, dtype=torch.int32)"
      ]
     },
     "execution_count": 793,
     "metadata": {},
     "output_type": "execute_result"
    }
   ],
   "source": [
    "dataset_train[0][1]"
   ]
  },
  {
   "cell_type": "code",
   "execution_count": 800,
   "id": "ae7ce59a",
   "metadata": {},
   "outputs": [
    {
     "data": {
      "text/plain": [
       "torch.utils.data.dataset.TensorDataset"
      ]
     },
     "execution_count": 800,
     "metadata": {},
     "output_type": "execute_result"
    }
   ],
   "source": [
    "type(dataset_train)"
   ]
  },
  {
   "cell_type": "code",
   "execution_count": 811,
   "id": "9d6b5639",
   "metadata": {},
   "outputs": [
    {
     "data": {
      "text/plain": [
       "(tensor([[[201.8750, 201.8750, 207.1875,  ..., 196.5625, 196.5625, 196.5625],\n",
       "          [196.5625, 201.8750, 196.5625,  ..., 207.1875, 207.1875, 201.8750],\n",
       "          [212.5000, 207.1875, 217.8125,  ..., 196.5625, 196.5625, 201.8750],\n",
       "          ...,\n",
       "          [154.0625, 154.0625, 143.4375,  ..., 138.1250, 132.8125, 143.4375],\n",
       "          [132.8125, 138.1250, 148.7500,  ..., 143.4375, 132.8125, 143.4375],\n",
       "          [154.0625, 148.7500, 148.7500,  ..., 185.9375, 106.2500,  24.7603]]]),\n",
       " tensor(2, dtype=torch.int32))"
      ]
     },
     "execution_count": 811,
     "metadata": {},
     "output_type": "execute_result"
    }
   ],
   "source": [
    "dataset_train[0]"
   ]
  },
  {
   "cell_type": "code",
   "execution_count": 929,
   "id": "0371f402",
   "metadata": {},
   "outputs": [
    {
     "data": {
      "text/plain": [
       "tensor([[[201, 201, 207,  ..., 196, 196, 196],\n",
       "         [196, 201, 196,  ..., 207, 207, 201],\n",
       "         [212, 207, 217,  ..., 196, 196, 201],\n",
       "         ...,\n",
       "         [154, 154, 143,  ..., 138, 132, 143],\n",
       "         [132, 138, 148,  ..., 143, 132, 143],\n",
       "         [154, 148, 148,  ..., 185, 106,  24]]], dtype=torch.uint8)"
      ]
     },
     "execution_count": 929,
     "metadata": {},
     "output_type": "execute_result"
    }
   ],
   "source": [
    "torch.tensor(dataset_train[0][0].numpy().astype('uint8'))"
   ]
  },
  {
   "cell_type": "code",
   "execution_count": 934,
   "id": "3f372afa",
   "metadata": {},
   "outputs": [
    {
     "data": {
      "image/png": "[encoded data removed]",
      "text/plain": [
       "<PIL.Image.Image image mode=L size=34x34>"
      ]
     },
     "execution_count": 934,
     "metadata": {},
     "output_type": "execute_result"
    }
   ],
   "source": [
    "transforms.functional.to_pil_image(dataset_train[0][0])"
   ]
  },
  {
   "cell_type": "code",
   "execution_count": 935,
   "id": "f0b8120e",
   "metadata": {},
   "outputs": [
    {
     "data": {
      "text/plain": [
       "tensor([[[0.0863, 0.0863, 0.3765,  ..., 0.7961, 0.7961, 0.7961],\n",
       "         [0.7961, 0.0863, 0.7961,  ..., 0.3765, 0.3765, 0.0863],\n",
       "         [0.6706, 0.3765, 0.9647,  ..., 0.7961, 0.7961, 0.0863],\n",
       "         ...,\n",
       "         [0.4588, 0.4588, 0.8784,  ..., 0.5843, 0.2941, 0.8784],\n",
       "         [0.2941, 0.5843, 0.1686,  ..., 0.8784, 0.2941, 0.8784],\n",
       "         [0.4588, 0.1686, 0.1686,  ..., 0.2118, 0.8353, 0.6627]]])"
      ]
     },
     "execution_count": 935,
     "metadata": {},
     "output_type": "execute_result"
    }
   ],
   "source": [
    "transforms.functional.to_tensor(transforms.functional.to_pil_image(dataset_train[0][0]))"
   ]
  },
  {
   "cell_type": "code",
   "execution_count": 931,
   "id": "8aace8d5",
   "metadata": {},
   "outputs": [
    {
     "data": {
      "image/png": "[encoded data removed]",
      "text/plain": [
       "<PIL.Image.Image image mode=L size=34x34>"
      ]
     },
     "execution_count": 931,
     "metadata": {},
     "output_type": "execute_result"
    }
   ],
   "source": [
    "transforms.functional.to_pil_image(torch.tensor(dataset_train[0][0].numpy().astype('uint8')))"
   ]
  },
  {
   "cell_type": "code",
   "execution_count": 932,
   "id": "20d63a4a",
   "metadata": {},
   "outputs": [
    {
     "data": {
      "text/plain": [
       "tensor([[[0.7882, 0.7882, 0.8118,  ..., 0.7686, 0.7686, 0.7686],\n",
       "         [0.7686, 0.7882, 0.7686,  ..., 0.8118, 0.8118, 0.7882],\n",
       "         [0.8314, 0.8118, 0.8510,  ..., 0.7686, 0.7686, 0.7882],\n",
       "         ...,\n",
       "         [0.6039, 0.6039, 0.5608,  ..., 0.5412, 0.5176, 0.5608],\n",
       "         [0.5176, 0.5412, 0.5804,  ..., 0.5608, 0.5176, 0.5608],\n",
       "         [0.6039, 0.5804, 0.5804,  ..., 0.7255, 0.4157, 0.0941]]])"
      ]
     },
     "execution_count": 932,
     "metadata": {},
     "output_type": "execute_result"
    }
   ],
   "source": [
    "transforms.functional.to_tensor(transforms.functional.to_pil_image(torch.tensor(dataset_train[0][0].numpy().astype('uint8'))))"
   ]
  },
  {
   "cell_type": "markdown",
   "id": "73fdc9a5",
   "metadata": {},
   "source": [
    "Define a function to transform image\n",
    "- Center crop to size 32x32"
   ]
  },
  {
   "cell_type": "code",
   "execution_count": 1009,
   "id": "e1854664",
   "metadata": {},
   "outputs": [],
   "source": [
    "class TensorDatasetTransform_32(TensorDataset):\n",
    "    r\"\"\"Dataset wrapping tensors.\n",
    "    Each sample will be retrieved by indexing tensors along the first dimension.\n",
    "    Args:\n",
    "        *tensors (Tensor): tensors that have the same size of the first dimension.\n",
    "    \"\"\"\n",
    "#     tensors: Tuple[Tensor, ...]\n",
    "\n",
    "    def __init__(self, tensor):\n",
    "        self.tensor = tensor\n",
    "        self.center_crop = transforms.CenterCrop(32)\n",
    "\n",
    "    def __info__(self):\n",
    "        print('Transform TensorDataset')\n",
    "        print('\\t Number of samples: {}'.format(len(self.tensor)))\n",
    "#         print('\\t Number of classes: {}'.format(len(np.unique(self.tensor)))\n",
    "        print('\\t root_dir: {}'.format(self.root_dir))\n",
    "    \n",
    "    def __getitem__(self, index):\n",
    "#         print('index:', index)\n",
    "        out = self.tensor[index] # get the tuple containing tensor and label\n",
    "        out = transforms.functional.to_pil_image(torch.tensor(out[0].numpy().astype('uint8'))) # out[0] is the tensor part of the tuple\n",
    "        out = self.center_crop(out)\n",
    "        out = transforms.functional.to_tensor(out)\n",
    "        return out, self.tensor[index][1].item() # re-assemble dataset, and using label value instead of label tensor\n",
    "#         return tuple(tensor[index] for tensor in self.tensors)\n",
    "\n",
    "    def __len__(self):\n",
    "        return len(self.tensor) # .size(0)"
   ]
  },
  {
   "cell_type": "code",
   "execution_count": 1010,
   "id": "7a8699de",
   "metadata": {},
   "outputs": [
    {
     "data": {
      "text/plain": [
       "<__main__.TensorDatasetTransform_32 at 0x19409226910>"
      ]
     },
     "execution_count": 1010,
     "metadata": {},
     "output_type": "execute_result"
    }
   ],
   "source": [
    "dataset_train_ = TensorDatasetTransform_32(dataset_train)\n",
    "dataset_train_"
   ]
  },
  {
   "cell_type": "code",
   "execution_count": 1011,
   "id": "6d216ed4",
   "metadata": {},
   "outputs": [
    {
     "data": {
      "text/plain": [
       "50471"
      ]
     },
     "execution_count": 1011,
     "metadata": {},
     "output_type": "execute_result"
    }
   ],
   "source": [
    "dataset_train_.__len__()"
   ]
  },
  {
   "cell_type": "code",
   "execution_count": 1012,
   "id": "8fbd9144",
   "metadata": {},
   "outputs": [
    {
     "data": {
      "text/plain": [
       "(tensor([[[0.7882, 0.7686, 0.7686,  ..., 0.7882, 0.8118, 0.8118],\n",
       "          [0.8118, 0.8510, 0.8745,  ..., 0.8118, 0.7686, 0.7686],\n",
       "          [0.7490, 0.7686, 0.7686,  ..., 0.8118, 0.7882, 0.7882],\n",
       "          ...,\n",
       "          [0.5608, 0.5176, 0.5176,  ..., 0.5176, 0.5608, 0.5412],\n",
       "          [0.6039, 0.5608, 0.5608,  ..., 0.5608, 0.5412, 0.5176],\n",
       "          [0.5412, 0.5804, 0.5608,  ..., 0.5412, 0.5608, 0.5176]]]),\n",
       " 2)"
      ]
     },
     "execution_count": 1012,
     "metadata": {},
     "output_type": "execute_result"
    }
   ],
   "source": [
    "dataset_train_[0]"
   ]
  },
  {
   "cell_type": "code",
   "execution_count": 1013,
   "id": "5d7b9ef1",
   "metadata": {},
   "outputs": [],
   "source": [
    "# random images\n",
    "def plotsample_(data):\n",
    "    fig, axs = plt.subplots(1,5,figsize=(10,10))\n",
    "    for i in range(5):\n",
    "        num = random.randint(0,len(data)-1)\n",
    "        tupl = data[num]\n",
    "        npimg = torchvision.utils.make_grid(tupl[0])\n",
    "        nplabel = tupl[1]\n",
    "        \n",
    "        axs[i].imshow(np.transpose(npimg, (1,2,0)))\n",
    "        axs[i].set_title(nplabel)\n",
    "#         axs[i].axis('off')"
   ]
  },
  {
   "cell_type": "code",
   "execution_count": 1014,
   "id": "b1a58d42",
   "metadata": {},
   "outputs": [
    {
     "data": {
      "image/png": "[encoded data removed]",
      "text/plain": [
       "<Figure size 1000x1000 with 5 Axes>"
      ]
     },
     "metadata": {},
     "output_type": "display_data"
    }
   ],
   "source": [
    "plotsample_(dataset_train_)"
   ]
  },
  {
   "cell_type": "code",
   "execution_count": 981,
   "id": "0ce4c8c0",
   "metadata": {},
   "outputs": [],
   "source": [
    "# img_list = []\n",
    "# for i in range(5):\n",
    "#     img_list.append(random.randint(0, len(dataset_train_)-1))\n",
    "# print(img_list)\n",
    "\n",
    "# fig, axs = plt.subplots(1,5,figsize=(10,10))\n",
    "# for i in range(5):\n",
    "#     tupl = dataset_train_[img_list[i]]\n",
    "#     img = tupl[0]\n",
    "#     lbl = tupl[1]\n",
    "#     axs[i].imshow(np.transpose(img.numpy(), (1,2,0)))\n",
    "#     axs[i].set_title(lbl)"
   ]
  },
  {
   "cell_type": "code",
   "execution_count": 894,
   "id": "f7cf6af1",
   "metadata": {},
   "outputs": [],
   "source": [
    "# img_list = []\n",
    "# for i in range(5):\n",
    "#     img_list.append(random.randint(0, len(dataset_train_)-1))\n",
    "# print(img_list)\n",
    "    \n",
    "# fig, axs = plt.subplots(1,5,figsize=(10,10))\n",
    "# axs[0].imshow(np.transpose(dataset_train_[img_list[0]][0].numpy(), (1,2,0)))\n",
    "# axs[1].imshow(np.transpose(dataset_train_[img_list[1]][0].numpy(), (1,2,0)))\n",
    "# axs[2].imshow(np.transpose(dataset_train_[img_list[2]][0].numpy(), (1,2,0)))\n",
    "# axs[3].imshow(np.transpose(dataset_train_[img_list[3]][0].numpy(), (1,2,0)))\n",
    "# axs[4].imshow(np.transpose(dataset_train_[img_list[4]][0].numpy(), (1,2,0)))\n",
    "# axs[0].set_title(dataset_train_[img_list[0]][1])\n",
    "# axs[1].set_title(dataset_train_[img_list[1]][1])\n",
    "# axs[2].set_title(dataset_train_[img_list[2]][1])\n",
    "# axs[3].set_title(dataset_train_[img_list[3]][1])\n",
    "# axs[4].set_title(dataset_train_[img_list[4]][1])"
   ]
  },
  {
   "cell_type": "markdown",
   "id": "ef557c3e",
   "metadata": {},
   "source": [
    "## dataset package using original data [Optinal] \n",
    "\n",
    "using non-normalized data, in case want to compare"
   ]
  },
  {
   "cell_type": "code",
   "execution_count": 707,
   "id": "bb4bc78d",
   "metadata": {},
   "outputs": [],
   "source": [
    "# [Optional] package up using original values (non-normalized data) by repeating the same steps\n",
    "# add same features\n",
    "Xtrain['mean'] = Xtrain.iloc[:, 0:1152].mean(axis=1)\n",
    "Xtrain['median'] = Xtrain.iloc[:, 0:1152].median(axis=1)\n",
    "Xtrain['range'] = Xtrain.iloc[:, 0:1152].max(axis=1) - Xtrain.iloc[:, 0:1152].min(axis=1)\n",
    "Xtrain['std'] = Xtrain.iloc[:, 0:1152].std(axis=1)\n",
    "Xtest['mean'] = Xtest.iloc[:, 0:1152].mean(axis=1)\n",
    "Xtest['median'] = Xtest.iloc[:, 0:1152].median(axis=1)\n",
    "Xtest['range'] = Xtest.iloc[:, 0:1152].max(axis=1) - Xtest.iloc[:, 0:1152].min(axis=1)\n",
    "Xtest['std'] = Xtest.iloc[:, 0:1152].std(axis=1)\n",
    "# to array\n",
    "Xtrain_arr_non_norm = Xtrain.to_numpy()\n",
    "Xtest_arr_non_norm = Xtest.to_numpy()\n",
    "# reshape\n",
    "Xtrain_arr_non_norm = Xtrain_arr_non_norm.reshape(Xtrain_arr_non_norm.shape[0], 1, 34,34)\n",
    "Xtest_arr_non_norm = Xtest_arr_non_norm.reshape(Xtest_arr_non_norm.shape[0], 1, 34,34)\n",
    "# to tensor and package\n",
    "dataset_train_non_norm = TensorDataset(torch.tensor(Xtrain_arr_non_norm), torch.tensor(Ytrain_enc))\n",
    "dataset_test_non_norm = TensorDataset(torch.tensor(Xtest_arr_non_norm), torch.tensor(Ytest_enc))"
   ]
  },
  {
   "cell_type": "markdown",
   "id": "907bbdc3",
   "metadata": {},
   "source": [
    "# Visualise \n",
    "\n",
    "## Visualise 1 image"
   ]
  },
  {
   "cell_type": "code",
   "execution_count": 708,
   "id": "dfb52d12",
   "metadata": {},
   "outputs": [
    {
     "name": "stdout",
     "output_type": "stream",
     "text": [
      "torch.Size([1, 34, 34]) 2\n"
     ]
    }
   ],
   "source": [
    "# now dataset looks like:\n",
    "for x,y in dataset_xtrain:\n",
    "    print(x.shape, y.item())\n",
    "    break"
   ]
  },
  {
   "cell_type": "code",
   "execution_count": 685,
   "id": "d20a12ec",
   "metadata": {},
   "outputs": [
    {
     "name": "stdout",
     "output_type": "stream",
     "text": [
      "count 2\n",
      "amuse 0\n",
      "surprise2 10\n"
     ]
    }
   ],
   "source": [
    "print(Ytrain_arr[0], Ytrain_enc[0])\n",
    "print(Ytrain_arr[4], Ytrain_enc[4])\n",
    "print(Ytrain_arr[100], Ytrain_enc[100])"
   ]
  },
  {
   "cell_type": "code",
   "execution_count": 755,
   "id": "92ab0c80",
   "metadata": {
    "scrolled": false
   },
   "outputs": [
    {
     "data": {
      "image/png": "[encoded data removed]",
      "text/plain": [
       "<Figure size 400x400 with 1 Axes>"
      ]
     },
     "metadata": {},
     "output_type": "display_data"
    }
   ],
   "source": [
    "# visualise one sample image\n",
    "plt.figure(figsize=(4,4))\n",
    "plt.imshow(Xtrain_ts.view(-1,34,34,1)[5])\n",
    "plt.show()"
   ]
  },
  {
   "cell_type": "code",
   "execution_count": 709,
   "id": "dc43acd1",
   "metadata": {
    "scrolled": true
   },
   "outputs": [],
   "source": [
    "# Xtrain_ts.view(-1,34,34,1)[5].numpy().astype('uint8')"
   ]
  },
  {
   "cell_type": "code",
   "execution_count": 710,
   "id": "3120ae23",
   "metadata": {
    "scrolled": true
   },
   "outputs": [
    {
     "data": {
      "image/png": "[encoded data removed]",
      "text/plain": [
       "<Figure size 400x400 with 1 Axes>"
      ]
     },
     "metadata": {},
     "output_type": "display_data"
    }
   ],
   "source": [
    "# visualise original values\n",
    "plt.figure(figsize=(4,4))\n",
    "plt.imshow(torch.tensor(Xtrain_arr_non_norm).view(-1,34,34,1)[5])\n",
    "plt.show()"
   ]
  },
  {
   "cell_type": "markdown",
   "id": "27217cf3",
   "metadata": {},
   "source": [
    "## Visualise random images"
   ]
  },
  {
   "cell_type": "code",
   "execution_count": 694,
   "id": "3bc7b53a",
   "metadata": {},
   "outputs": [
    {
     "data": {
      "text/plain": [
       "tensor([[[185.9375, 185.9375, 196.5625,  ..., 180.6250, 185.9375, 175.3125],\n",
       "         [175.3125, 185.9375, 180.6250,  ..., 185.9375, 180.6250, 185.9375],\n",
       "         [185.9375, 196.5625, 191.2500,  ..., 175.3125, 170.0000, 170.0000],\n",
       "         ...,\n",
       "         [170.0000, 170.0000, 148.7500,  ..., 143.4375, 148.7500, 148.7500],\n",
       "         [143.4375, 143.4375, 143.4375,  ..., 154.0625, 148.7500, 154.0625],\n",
       "         [159.3750, 154.0625, 143.4375,  ..., 164.6875, 100.9375,  18.0217]]])"
      ]
     },
     "execution_count": 694,
     "metadata": {},
     "output_type": "execute_result"
    }
   ],
   "source": [
    "dataset_train[224][0]"
   ]
  },
  {
   "cell_type": "code",
   "execution_count": 1133,
   "id": "88f75678",
   "metadata": {},
   "outputs": [
    {
     "name": "stdout",
     "output_type": "stream",
     "text": [
      "[35236, 7092, 17836, 19395, 11086]\n"
     ]
    },
    {
     "data": {
      "text/plain": [
       "Text(0.5, 1.0, '0')"
      ]
     },
     "execution_count": 1133,
     "metadata": {},
     "output_type": "execute_result"
    },
    {
     "data": {
      "image/png": "[encoded data removed]",
      "text/plain": [
       "<Figure size 1000x1000 with 5 Axes>"
      ]
     },
     "metadata": {},
     "output_type": "display_data"
    }
   ],
   "source": [
    "img = []\n",
    "for i in range(5):\n",
    "    img.append(random.randint(0, len(dataset_train)-1))\n",
    "print(img)\n",
    "    \n",
    "fig, axs = plt.subplots(1,5,figsize=(10,10))\n",
    "axs[0].imshow(np.transpose(dataset_train_non_norm[img[0]][0].numpy(), (1,2,0)))\n",
    "axs[1].imshow(np.transpose(dataset_train_non_norm[img[1]][0].numpy(), (1,2,0)))\n",
    "axs[2].imshow(np.transpose(dataset_train_non_norm[img[2]][0].numpy(), (1,2,0)))\n",
    "axs[3].imshow(np.transpose(dataset_train_non_norm[img[3]][0].numpy(), (1,2,0)))\n",
    "axs[4].imshow(np.transpose(dataset_train_non_norm[img[4]][0].numpy(), (1,2,0)))\n",
    "axs[0].set_title(dataset_train_non_norm[img[0]][1].item())\n",
    "axs[1].set_title(dataset_train_non_norm[img[1]][1].item())\n",
    "axs[2].set_title(dataset_train_non_norm[img[2]][1].item())\n",
    "axs[3].set_title(dataset_train_non_norm[img[3]][1].item())\n",
    "axs[4].set_title(dataset_train_non_norm[img[4]][1].item())"
   ]
  },
  {
   "cell_type": "code",
   "execution_count": 1134,
   "id": "c972cba0",
   "metadata": {},
   "outputs": [
    {
     "name": "stdout",
     "output_type": "stream",
     "text": [
      "[32888, 45024, 41708, 12751, 23301]\n"
     ]
    },
    {
     "data": {
      "text/plain": [
       "Text(0.5, 1.0, '7.0')"
      ]
     },
     "execution_count": 1134,
     "metadata": {},
     "output_type": "execute_result"
    },
    {
     "data": {
      "image/png": "[encoded data removed]",
      "text/plain": [
       "<Figure size 1000x1000 with 5 Axes>"
      ]
     },
     "metadata": {},
     "output_type": "display_data"
    }
   ],
   "source": [
    "img = []\n",
    "for i in range(5):\n",
    "    img.append(random.randint(0, len(dataset_train)-1))\n",
    "print(img)\n",
    "    \n",
    "fig, axs = plt.subplots(1,5,figsize=(10,10))\n",
    "axs[0].imshow(np.transpose(dataset_train[img[0]][0].numpy(), (1,2,0)))\n",
    "axs[1].imshow(np.transpose(dataset_train[img[1]][0].numpy(), (1,2,0)))\n",
    "axs[2].imshow(np.transpose(dataset_train[img[2]][0].numpy(), (1,2,0)))\n",
    "axs[3].imshow(np.transpose(dataset_train[img[3]][0].numpy(), (1,2,0)))\n",
    "axs[4].imshow(np.transpose(dataset_train[img[4]][0].numpy(), (1,2,0)))\n",
    "axs[0].set_title(dataset_train[img[0]][1].item())\n",
    "axs[1].set_title(dataset_train[img[1]][1].item())\n",
    "axs[2].set_title(dataset_train[img[2]][1].item())\n",
    "axs[3].set_title(dataset_train[img[3]][1].item())\n",
    "axs[4].set_title(dataset_train[img[4]][1].item())"
   ]
  },
  {
   "cell_type": "code",
   "execution_count": 945,
   "id": "8a744fac",
   "metadata": {},
   "outputs": [],
   "source": [
    "# random images\n",
    "def plotsample(data):\n",
    "    fig, axs = plt.subplots(1,5,figsize=(10,10))\n",
    "    for i in range(5):\n",
    "        num = random.randint(0,len(data)-1)\n",
    "        print('num:', num)\n",
    "        \n",
    "        npimg = torchvision.utils.make_grid(data[num][0]).numpy().astype('int')\n",
    "        nplabel = data[num][1].item()\n",
    "        \n",
    "        axs[i].imshow(np.transpose(npimg, (1,2,0)))\n",
    "        axs[i].set_title(nplabel)\n",
    "#         axs[i].axis('off')"
   ]
  },
  {
   "cell_type": "code",
   "execution_count": 1135,
   "id": "d96bdfd6",
   "metadata": {
    "scrolled": true
   },
   "outputs": [
    {
     "name": "stdout",
     "output_type": "stream",
     "text": [
      "num: 1076\n",
      "num: 46333\n",
      "num: 9657\n",
      "num: 5660\n",
      "num: 39511\n"
     ]
    },
    {
     "data": {
      "image/png": "[encoded data removed]",
      "text/plain": [
       "<Figure size 1000x1000 with 5 Axes>"
      ]
     },
     "metadata": {},
     "output_type": "display_data"
    }
   ],
   "source": [
    "plotsample(dataset_train)"
   ]
  },
  {
   "cell_type": "code",
   "execution_count": 785,
   "id": "bec23879",
   "metadata": {},
   "outputs": [],
   "source": [
    "# torchvision.utils.make_grid(dataset_train[174][0]).numpy().round(0)"
   ]
  },
  {
   "cell_type": "code",
   "execution_count": 786,
   "id": "363512fc",
   "metadata": {},
   "outputs": [],
   "source": [
    "# plt.imshow(torchvision.utils.make_grid(dataset_train[174][0]).numpy().round(0).astype('int').transpose((1,2,0)))"
   ]
  },
  {
   "cell_type": "markdown",
   "id": "80915a14",
   "metadata": {},
   "source": [
    "# Model\n",
    "\n",
    "- net LeNet5\n",
    "- criterion Loss\n",
    "- optimizer\n",
    "- dataloader\n",
    "- fit_test"
   ]
  },
  {
   "cell_type": "code",
   "execution_count": 1006,
   "id": "d2b09bc3",
   "metadata": {},
   "outputs": [
    {
     "data": {
      "text/plain": [
       "device(type='cuda', index=0)"
      ]
     },
     "execution_count": 1006,
     "metadata": {},
     "output_type": "execute_result"
    }
   ],
   "source": [
    "device = torch.device(\"cuda:0\" if torch.cuda.is_available() else \"cpu\")\n",
    "device"
   ]
  },
  {
   "cell_type": "code",
   "execution_count": 1208,
   "id": "9fd0034f",
   "metadata": {},
   "outputs": [
    {
     "name": "stdout",
     "output_type": "stream",
     "text": [
      "2177536\n",
      "473956352\n",
      "468624384\n"
     ]
    }
   ],
   "source": [
    "print(torch.cuda.memory_allocated()) #张量内存的占用情况（现状）\n",
    "print(torch.cuda.memory_reserved()) #缓存分配器占用的所有内存（现状）\n",
    "print(torch.cuda.max_memory_allocated()) #自GPU运行以来占用过的最大张量内存（峰值）"
   ]
  },
  {
   "cell_type": "code",
   "execution_count": 993,
   "id": "bb9ff9e7",
   "metadata": {},
   "outputs": [],
   "source": [
    "# CORRECT\n",
    "from torch.nn import functional as F\n",
    "\n",
    "class MyModel(nn.Module):\n",
    "    # (self, param1, param2, ...)\n",
    "    def __init__(self): \n",
    "        # always super().__init__ to inherit all init of nn.Module\n",
    "        super().__init__()\n",
    "        self.conv1 = nn.Conv2d(1,6,5) # stride=1 (32+0-5)/1+1=28 (1,6,28,28)\n",
    "        self.pool1 = nn.AvgPool2d(kernel_size=2, stride=2) #(1,6,14,14)\n",
    "        self.conv2 = nn.Conv2d(6,16,5) # stride=1, (14+0-5)/1+1=10 (1,16,10,10)\n",
    "        self.pool2 = nn.AvgPool2d(kernel_size=2, stride=2) # (1,16,5,5)\n",
    "        self.fc1 = nn.Linear(5*5*16, 120) # need a flatten as input, output 120\n",
    "        self.fc2 = nn.Linear(120, 84)\n",
    "        \n",
    "    # define data flow\n",
    "    def forward(self, x):\n",
    "        x = torch.tanh(self.conv1(x)) # each layer needs an activation\n",
    "        x = self.pool1(x)\n",
    "        x = torch.tanh(self.conv2(x)) # need activation\n",
    "        x = self.pool2(x)\n",
    "        # flatten to shape that fc1 requires\n",
    "        x = x.view(-1, 5*5*16) # -1占位，不关心这里的数（实际是样本量10），根据输入的x结构自己计算出5*5*16\n",
    "        x = torch.tanh(self.fc1(x)) # need activation \n",
    "        output = F.softmax(self.fc2(x), dim=1) # (sample, features) 对特征那一列来算 \n",
    "        \n",
    "        return output"
   ]
  },
  {
   "cell_type": "code",
   "execution_count": 995,
   "id": "1d24c701",
   "metadata": {},
   "outputs": [
    {
     "data": {
      "text/plain": [
       "==========================================================================================\n",
       "Layer (type:depth-idx)                   Output Shape              Param #\n",
       "==========================================================================================\n",
       "MyModel                                  [10, 84]                  --\n",
       "├─Conv2d: 1-1                            [10, 6, 28, 28]           156\n",
       "├─AvgPool2d: 1-2                         [10, 6, 14, 14]           --\n",
       "├─Conv2d: 1-3                            [10, 16, 10, 10]          2,416\n",
       "├─AvgPool2d: 1-4                         [10, 16, 5, 5]            --\n",
       "├─Linear: 1-5                            [10, 120]                 48,120\n",
       "├─Linear: 1-6                            [10, 84]                  10,164\n",
       "==========================================================================================\n",
       "Total params: 60,856\n",
       "Trainable params: 60,856\n",
       "Non-trainable params: 0\n",
       "Total mult-adds (M): 4.22\n",
       "==========================================================================================\n",
       "Input size (MB): 0.04\n",
       "Forward/backward pass size (MB): 0.52\n",
       "Params size (MB): 0.24\n",
       "Estimated Total Size (MB): 0.81\n",
       "=========================================================================================="
      ]
     },
     "execution_count": 995,
     "metadata": {},
     "output_type": "execute_result"
    }
   ],
   "source": [
    "summary(mynet, input_size=(10,1,32,32)) # need input image samples info"
   ]
  },
  {
   "cell_type": "code",
   "execution_count": 1064,
   "id": "13ac55a4",
   "metadata": {},
   "outputs": [
    {
     "data": {
      "text/plain": [
       "<generator object Module.parameters at 0x00000193E4A127B0>"
      ]
     },
     "execution_count": 1064,
     "metadata": {},
     "output_type": "execute_result"
    }
   ],
   "source": [
    "mynet.parameters()"
   ]
  },
  {
   "cell_type": "code",
   "execution_count": 1163,
   "id": "ddf60191",
   "metadata": {},
   "outputs": [],
   "source": [
    "bs = 128\n",
    "lr = 0.001\n",
    "alpha = 0.99\n",
    "gamma = 0\n",
    "wd = 0"
   ]
  },
  {
   "cell_type": "code",
   "execution_count": 1065,
   "id": "e12db74b",
   "metadata": {},
   "outputs": [],
   "source": [
    "criterion = nn.CrossEntropyLoss(reduction='sum') # calculate loss, output sum\n",
    "optimizer = optim.SGD(mynet.parameters(), alpha=alpha, lr=lr, momentum=gamma, weight_decay=wd)"
   ]
  },
  {
   "cell_type": "code",
   "execution_count": 1137,
   "id": "bfdfdfec",
   "metadata": {},
   "outputs": [
    {
     "data": {
      "text/plain": [
       "<__main__.CustomDataset at 0x194086d84f0>"
      ]
     },
     "execution_count": 1137,
     "metadata": {},
     "output_type": "execute_result"
    }
   ],
   "source": [
    "dataset_train"
   ]
  },
  {
   "cell_type": "code",
   "execution_count": 1173,
   "id": "8f7ab083",
   "metadata": {},
   "outputs": [
    {
     "name": "stdout",
     "output_type": "stream",
     "text": [
      "torch.Size([1, 32, 32]) tensor(2.)\n"
     ]
    }
   ],
   "source": [
    "for x,y in dataset_train:\n",
    "    print(x.shape, y)\n",
    "    break"
   ]
  },
  {
   "cell_type": "code",
   "execution_count": 1182,
   "id": "f3fbd048",
   "metadata": {},
   "outputs": [
    {
     "data": {
      "text/plain": [
       "tensor([2.])"
      ]
     },
     "execution_count": 1182,
     "metadata": {},
     "output_type": "execute_result"
    }
   ],
   "source": [
    "y.view(x.shape[0])"
   ]
  },
  {
   "cell_type": "code",
   "execution_count": 1164,
   "id": "21b25788",
   "metadata": {},
   "outputs": [],
   "source": [
    "train_loader = DataLoader(dataset_train, batch_size=bs, shuffle=True)\n",
    "test_loader = DataLoader(dataset_test, batch_size=bs, shuffle=False)"
   ]
  },
  {
   "cell_type": "code",
   "execution_count": 1185,
   "id": "4a1a86ae",
   "metadata": {},
   "outputs": [
    {
     "data": {
      "text/plain": [
       "==========================================================================================\n",
       "Layer (type:depth-idx)                   Output Shape              Param #\n",
       "==========================================================================================\n",
       "MyModel                                  [1, 84]                   --\n",
       "├─Conv2d: 1-1                            [6, 28, 28]               156\n",
       "├─AvgPool2d: 1-2                         [6, 14, 14]               --\n",
       "├─Conv2d: 1-3                            [16, 10, 10]              2,416\n",
       "├─AvgPool2d: 1-4                         [16, 5, 5]                --\n",
       "├─Linear: 1-5                            [1, 120]                  48,120\n",
       "├─Linear: 1-6                            [1, 84]                   10,164\n",
       "==========================================================================================\n",
       "Total params: 60,856\n",
       "Trainable params: 60,856\n",
       "Non-trainable params: 0\n",
       "Total mult-adds (M): 0.47\n",
       "==========================================================================================\n",
       "Input size (MB): 0.00\n",
       "Forward/backward pass size (MB): 0.05\n",
       "Params size (MB): 0.24\n",
       "Estimated Total Size (MB): 0.30\n",
       "=========================================================================================="
      ]
     },
     "execution_count": 1185,
     "metadata": {},
     "output_type": "execute_result"
    }
   ],
   "source": [
    "summary(mynet, input_size=train_loader.dataset[0][0].shape)"
   ]
  },
  {
   "cell_type": "code",
   "execution_count": 1192,
   "id": "0a4d48cf",
   "metadata": {},
   "outputs": [
    {
     "data": {
      "text/plain": [
       "(tensor([[[201.8750, 196.5625, 196.5625,  ..., 201.8750, 207.1875, 207.1875],\n",
       "          [207.1875, 217.8125, 223.1250,  ..., 207.1875, 196.5625, 196.5625],\n",
       "          [191.2500, 196.5625, 196.5625,  ..., 207.1875, 201.8750, 201.8750],\n",
       "          ...,\n",
       "          [143.4375, 132.8125, 132.8125,  ..., 132.8125, 143.4375, 138.1250],\n",
       "          [154.0625, 143.4375, 143.4375,  ..., 143.4375, 138.1250, 132.8125],\n",
       "          [138.1250, 148.7500, 143.4375,  ..., 138.1250, 143.4375, 132.8125]]]),\n",
       " tensor(2.))"
      ]
     },
     "execution_count": 1192,
     "metadata": {},
     "output_type": "execute_result"
    }
   ],
   "source": [
    "train_loader.dataset[0]"
   ]
  },
  {
   "cell_type": "code",
   "execution_count": 1194,
   "id": "3ac48377",
   "metadata": {},
   "outputs": [
    {
     "data": {
      "text/plain": [
       "tensor([[0.0104, 0.0120, 0.0132, 0.0147, 0.0142, 0.0090, 0.0112, 0.0141, 0.0115,\n",
       "         0.0137, 0.0125, 0.0108, 0.0131, 0.0108, 0.0125, 0.0132, 0.0113, 0.0098,\n",
       "         0.0124, 0.0105, 0.0139, 0.0090, 0.0124, 0.0143, 0.0103, 0.0134, 0.0149,\n",
       "         0.0114, 0.0090, 0.0116, 0.0142, 0.0104, 0.0099, 0.0113, 0.0128, 0.0096,\n",
       "         0.0111, 0.0105, 0.0119, 0.0111, 0.0168, 0.0112, 0.0108, 0.0118, 0.0125,\n",
       "         0.0140, 0.0102, 0.0112, 0.0122, 0.0127, 0.0100, 0.0112, 0.0115, 0.0125,\n",
       "         0.0103, 0.0108, 0.0111, 0.0131, 0.0118, 0.0103, 0.0143, 0.0125, 0.0155,\n",
       "         0.0143, 0.0105, 0.0098, 0.0112, 0.0126, 0.0143, 0.0120, 0.0114, 0.0135,\n",
       "         0.0102, 0.0120, 0.0094, 0.0118, 0.0106, 0.0147, 0.0110, 0.0123, 0.0105,\n",
       "         0.0094, 0.0141, 0.0125]], device='cuda:0', grad_fn=<SoftmaxBackward0>)"
      ]
     },
     "execution_count": 1194,
     "metadata": {},
     "output_type": "execute_result"
    }
   ],
   "source": [
    "# put 1 data to test network\n",
    "mynet(train_loader.dataset[0][0].to(device, non_blocking=True))"
   ]
  },
  {
   "cell_type": "code",
   "execution_count": 1193,
   "id": "9d563a73",
   "metadata": {},
   "outputs": [
    {
     "data": {
      "text/plain": [
       "tensor([[0.0104, 0.0120, 0.0132, 0.0147, 0.0142, 0.0090, 0.0112, 0.0141, 0.0115,\n",
       "         0.0137, 0.0125, 0.0108, 0.0131, 0.0108, 0.0125, 0.0132, 0.0113, 0.0098,\n",
       "         0.0124, 0.0105, 0.0139, 0.0090, 0.0124, 0.0143, 0.0103, 0.0134, 0.0149,\n",
       "         0.0114, 0.0090, 0.0116, 0.0142, 0.0104, 0.0099, 0.0113, 0.0128, 0.0096,\n",
       "         0.0111, 0.0105, 0.0119, 0.0111, 0.0168, 0.0112, 0.0108, 0.0118, 0.0125,\n",
       "         0.0140, 0.0102, 0.0112, 0.0122, 0.0127, 0.0100, 0.0112, 0.0115, 0.0125,\n",
       "         0.0103, 0.0108, 0.0111, 0.0131, 0.0118, 0.0103, 0.0143, 0.0125, 0.0155,\n",
       "         0.0143, 0.0105, 0.0098, 0.0112, 0.0126, 0.0143, 0.0120, 0.0114, 0.0135,\n",
       "         0.0102, 0.0120, 0.0094, 0.0118, 0.0106, 0.0147, 0.0110, 0.0123, 0.0105,\n",
       "         0.0094, 0.0141, 0.0125]], device='cuda:0', grad_fn=<SoftmaxBackward0>)"
      ]
     },
     "execution_count": 1193,
     "metadata": {},
     "output_type": "execute_result"
    }
   ],
   "source": [
    "# put 1 data to test network.forward() \n",
    "# same as above, or can only run mynet.forward to get sigma/output\n",
    "mynet.forward(train_loader.dataset[0][0].to(device, non_blocking=True))"
   ]
  },
  {
   "cell_type": "code",
   "execution_count": 1196,
   "id": "6cf2566b",
   "metadata": {},
   "outputs": [],
   "source": [
    "# mynet.state_dict()"
   ]
  },
  {
   "cell_type": "markdown",
   "id": "443d3080",
   "metadata": {},
   "source": [
    "iteration:\n",
    "- get loss from criterion(pred/sigma/outputs, ytrue)\n",
    "- backward prapagation loss: loss.backward()\n",
    "- update weights: optim.step()\n",
    "- reset network gradients: net.zero_grad()"
   ]
  },
  {
   "cell_type": "code",
   "execution_count": 1183,
   "id": "e39e4eb7",
   "metadata": {},
   "outputs": [
    {
     "data": {
      "text/plain": [
       "50471"
      ]
     },
     "execution_count": 1183,
     "metadata": {},
     "output_type": "execute_result"
    }
   ],
   "source": [
    "train_loader.dataset.__len__()"
   ]
  },
  {
   "cell_type": "code",
   "execution_count": 1197,
   "id": "41749b02",
   "metadata": {},
   "outputs": [],
   "source": [
    "def fit_test(net, batchdata, testdata, criterion, optim, epochs, tol, modelname, PATH):\n",
    "    '''\n",
    "    Train model, and output accuracy and loss on training data and testing data after each epoch\n",
    "    Monitor model performance\n",
    "    Save model weights\n",
    "    \n",
    "    Parameters:\n",
    "    net: instantiated network\n",
    "    batchdata: training data from Dataloader\n",
    "    testdata: testing data from Dataloader\n",
    "    criterion: loss function\n",
    "    optim: optimization algorithm\n",
    "    epochs: number of times to train the entire training data\n",
    "    tol: thereshold of the decrease of loss on testing data, \n",
    "            failed to exceed tol for consecutive 5 times will triger Earlystop\n",
    "    modelname: model name of current running model, used as file name when saving weights\n",
    "    PATH: path that weights to be saved to\n",
    "    \n",
    "    '''\n",
    "    \n",
    "    SamplePerEpoch = batchdata.dataset.__len__() #整个epoch里有多少个样本\n",
    "    allsamples = SamplePerEpoch*epochs\n",
    "    trainedsamples = 0\n",
    "    trainlosslist = []\n",
    "    testlosslist = []\n",
    "    early_stopping = EarlyStopping(tol=tol)\n",
    "    highestacc = None\n",
    "    print('INFO: SamplePerEpoch {}, allsamples {}'.format(SamplePerEpoch, allsamples))\n",
    "\n",
    "    for epoch in range(1, epochs+1):\n",
    "        net.train()\n",
    "        correct_train = 0\n",
    "        loss_train = 0\n",
    "        for idx, (x, y) in enumerate(batchdata):\n",
    "#             print(idx, x.shape, y.shape)\n",
    "            x = x.to(device, non_blocking=True)\n",
    "            y = y.to(device, non_blocking=True).view(x.shape[0])\n",
    "            # IterOnce\n",
    "            # forward + backward + optimize\n",
    "            sigma = net(x)\n",
    "            loss = criterion(sigma, y)\n",
    "            loss.backward()\n",
    "            optim.step()\n",
    "            optim.zero_grad(set_to_none=True) # save memgory than set to 0\n",
    "            yhat = torch.max(sigma,1)[1]\n",
    "            correct = torch.sum(yhat == y)\n",
    "            # correct, loss\n",
    "\n",
    "            #计算样本总量、总的correct、loss\n",
    "            trainedsamples += x.shape[0]\n",
    "            loss_train += loss\n",
    "            correct_train += correct\n",
    "\n",
    "            if (batch_idx+1) % 125 == 0:\n",
    "                print('Epoch{}:[{}/{}({:.0f}%)]'.format(epoch, tranedsamples, allsamples, 100*trainedsamples/allsamples))\n",
    "\n",
    "        TrainAccThisEpoch = float(correct_train*100)/SamplePerEpoch\n",
    "        TrainLossThisEpoch = float(loss_train*100)/SamplePerEpoch #平均每个样本上的损失\n",
    "        trainlosslist.append(TrainLossThisEpoch)\n",
    "\n",
    "        #清理GPU内存\n",
    "        #清理掉一个epoch循环下面不再需要的中间变量\n",
    "        del x,y,correct,loss,correct_train,loss_train #删除数据与变量\n",
    "        gc.collect() #清除数据与变量相关的缓存\n",
    "        torch.cuda.empty_cache() #缓存分配器分配出去的内存给释放掉\n",
    "\n",
    "        # after each epoch, evaluate on testset\n",
    "        mynet.eval()\n",
    "        loss_test = 0\n",
    "        correct_test = 0\n",
    "        TestSample = testdata.dataset.__len__()\n",
    "\n",
    "        for x,y in testdata:\n",
    "            x = x.to(device, non_blocking=True)\n",
    "            y = y.to(device, non_blocking=True).view(x.shape[0])\n",
    "            # TestOnce\n",
    "            # when testing, no compute map trace, this can save memory and speed up\n",
    "            with torch.no_grad():\n",
    "                sigma = net(x)\n",
    "                loss = criterion(sigma, y)\n",
    "                yhat = torch.max(sigma,1)[1]\n",
    "                correct = torch.sum(yhat == y)\n",
    "                # correct, loss\n",
    "            \n",
    "            loss_test += loss\n",
    "            correct_test += correct\n",
    "        \n",
    "        TestAccThisEpoch = float(correct_test * 100)/TestSample\n",
    "        TestLossThisEpoch = float(loss_test * 100)/TestSample\n",
    "        testlosslist.append(TestLossThisEpoch)\n",
    "        \n",
    "        #清理GPU内存\n",
    "        #清理掉一个epoch循环下面不再需要的中间变量\n",
    "        del x,y,correct,loss,correct_test,loss_test\n",
    "        gc.collect()\n",
    "        torch.cuda.empty_cache()\n",
    "        \n",
    "        # for each epoch, print results\n",
    "        print('Train loss: {:.6f}, Test loss: {:.6f}, Train Acc: {:.3f}%, Test Acc: {:.3f}%'.format(TrainLossThisEpoch\n",
    "                                                                                                   ,TestLossThisEpoch\n",
    "                                                                                                   ,TrainAccThisEpoch\n",
    "                                                                                                   ,TestAccThisEpoch))\n",
    "        \n",
    "        # save weights conditionally\n",
    "        if highestacc == None:\n",
    "            highestacc = TestAccThisEpoch\n",
    "        if highestacc < TestAccThisEpoch:\n",
    "            highestacc = TestAccThisEpoch\n",
    "            torch.save(net.state_dict(), os.path.join(PATH, modelname+'.pt'))\n",
    "            print('Weight Saved')\n",
    "        \n",
    "        # Earlystop\n",
    "        early_stop = early_stopping(TestLossThisEpoch)\n",
    "        if early_stop == 'True':\n",
    "            break\n",
    "            \n",
    "    print('Complete')\n",
    "    return trainlosslist, testlosslist"
   ]
  },
  {
   "cell_type": "code",
   "execution_count": 1198,
   "id": "f9f222a2",
   "metadata": {},
   "outputs": [],
   "source": [
    "def plotloss(trainloss, testloss):\n",
    "    plt.figure(figsize=(10,7))\n",
    "    plt.plot(trainloss, color='red', label='TrainLoss')\n",
    "    plt.plot(testloss, color='orange', label='TestLoss')\n",
    "    plt.xlabel('Epochs')\n",
    "    plt.ylabel('Loss')\n",
    "    plt.legend()\n",
    "    plt.show()"
   ]
  },
  {
   "cell_type": "code",
   "execution_count": 1199,
   "id": "2846a678",
   "metadata": {},
   "outputs": [
    {
     "name": "stdout",
     "output_type": "stream",
     "text": [
      "2138624\n",
      "473956352\n",
      "468624384\n"
     ]
    }
   ],
   "source": []
  },
  {
   "cell_type": "code",
   "execution_count": 1201,
   "id": "04458ed5",
   "metadata": {},
   "outputs": [
    {
     "data": {
      "text/plain": [
       "tensor([[0.0104, 0.0120, 0.0132, 0.0147, 0.0142, 0.0090, 0.0112, 0.0141, 0.0115,\n",
       "         0.0137, 0.0125, 0.0108, 0.0131, 0.0108, 0.0125, 0.0132, 0.0113, 0.0098,\n",
       "         0.0124, 0.0105, 0.0139, 0.0090, 0.0124, 0.0143, 0.0103, 0.0134, 0.0149,\n",
       "         0.0114, 0.0090, 0.0116, 0.0142, 0.0104, 0.0099, 0.0113, 0.0128, 0.0096,\n",
       "         0.0111, 0.0105, 0.0119, 0.0111, 0.0168, 0.0112, 0.0108, 0.0118, 0.0125,\n",
       "         0.0140, 0.0102, 0.0112, 0.0122, 0.0127, 0.0100, 0.0112, 0.0115, 0.0125,\n",
       "         0.0103, 0.0108, 0.0111, 0.0131, 0.0118, 0.0103, 0.0143, 0.0125, 0.0155,\n",
       "         0.0143, 0.0105, 0.0098, 0.0112, 0.0126, 0.0143, 0.0120, 0.0114, 0.0135,\n",
       "         0.0102, 0.0120, 0.0094, 0.0118, 0.0106, 0.0147, 0.0110, 0.0123, 0.0105,\n",
       "         0.0094, 0.0141, 0.0125]], device='cuda:0', grad_fn=<SoftmaxBackward0>)"
      ]
     },
     "execution_count": 1201,
     "metadata": {},
     "output_type": "execute_result"
    }
   ],
   "source": [
    "test = dataset_train[0][0].to(device)\n",
    "yhat = mynet(test)\n",
    "yhat"
   ]
  },
  {
   "cell_type": "code",
   "execution_count": 1203,
   "id": "d6ed1fc3",
   "metadata": {},
   "outputs": [
    {
     "data": {
      "text/plain": [
       "tensor([[0.0119, 0.0119, 0.0119, 0.0119, 0.0119, 0.0119, 0.0119, 0.0119, 0.0119,\n",
       "         0.0119, 0.0119, 0.0119, 0.0119, 0.0119, 0.0119, 0.0119, 0.0119, 0.0119,\n",
       "         0.0119, 0.0119, 0.0119, 0.0119, 0.0119, 0.0119, 0.0119, 0.0119, 0.0119,\n",
       "         0.0119, 0.0119, 0.0119, 0.0119, 0.0119, 0.0119, 0.0119, 0.0119, 0.0119,\n",
       "         0.0119, 0.0119, 0.0119, 0.0119, 0.0120, 0.0119, 0.0119, 0.0119, 0.0119,\n",
       "         0.0119, 0.0119, 0.0119, 0.0119, 0.0119, 0.0119, 0.0119, 0.0119, 0.0119,\n",
       "         0.0119, 0.0119, 0.0119, 0.0119, 0.0119, 0.0119, 0.0119, 0.0119, 0.0119,\n",
       "         0.0119, 0.0119, 0.0119, 0.0119, 0.0119, 0.0119, 0.0119, 0.0119, 0.0119,\n",
       "         0.0119, 0.0119, 0.0119, 0.0119, 0.0119, 0.0119, 0.0119, 0.0119, 0.0119,\n",
       "         0.0119, 0.0119, 0.0119]], device='cuda:0', grad_fn=<SoftmaxBackward0>)"
      ]
     },
     "execution_count": 1203,
     "metadata": {},
     "output_type": "execute_result"
    }
   ],
   "source": [
    "soft_z = F.softmax(yhat, 1)\n",
    "soft_z"
   ]
  },
  {
   "cell_type": "code",
   "execution_count": 1204,
   "id": "e3da48e8",
   "metadata": {
    "scrolled": true
   },
   "outputs": [
    {
     "data": {
      "text/plain": [
       "tensor([40], device='cuda:0')"
      ]
     },
     "execution_count": 1204,
     "metadata": {},
     "output_type": "execute_result"
    }
   ],
   "source": [
    "acc_bool = torch.argmax(soft_z, 1).flatten()\n",
    "acc_bool"
   ]
  },
  {
   "cell_type": "code",
   "execution_count": 1205,
   "id": "e280d517",
   "metadata": {},
   "outputs": [
    {
     "data": {
      "text/plain": [
       "tensor(2.)"
      ]
     },
     "execution_count": 1205,
     "metadata": {},
     "output_type": "execute_result"
    }
   ],
   "source": [
    "dataset_train[0][1]"
   ]
  },
  {
   "cell_type": "markdown",
   "id": "0fddca86",
   "metadata": {},
   "source": [
    "Run fit_test()"
   ]
  },
  {
   "cell_type": "code",
   "execution_count": null,
   "id": "8f3cada8",
   "metadata": {},
   "outputs": [],
   "source": [
    "# mynet\n",
    "# batchdata = train_loader\n",
    "# testdata = test_loader\n",
    "# criterion = criterion\n",
    "# optim = optimizer\n",
    "# epochs\n",
    "# tol\n",
    "modelname = 'LN'\n",
    "PATH = r'C:\\Users\\EricWang\\GoogleDrive\\My Drive\\U\\2022_WORK_UNISA\\WORK_UNISA\\Digital Capabilities Program\\project_rehabSwift\\stroke-sensors\\model'"
   ]
  },
  {
   "cell_type": "code",
   "execution_count": 1215,
   "id": "18b87e38",
   "metadata": {},
   "outputs": [
    {
     "data": {
      "text/plain": [
       "'C:\\\\Users\\\\EricWang\\\\GoogleDrive\\\\My Drive\\\\U\\\\2022_WORK_UNISA\\\\WORK_UNISA\\\\Digital Capabilities Program\\\\project_rehabSwift\\\\stroke-sensors'"
      ]
     },
     "execution_count": 1215,
     "metadata": {},
     "output_type": "execute_result"
    }
   ],
   "source": [
    "os.path.abspath('.')"
   ]
  },
  {
   "cell_type": "code",
   "execution_count": null,
   "id": "17f6bc67",
   "metadata": {},
   "outputs": [],
   "source": []
  },
  {
   "cell_type": "code",
   "execution_count": null,
   "id": "00c6be81",
   "metadata": {},
   "outputs": [],
   "source": []
  },
  {
   "cell_type": "code",
   "execution_count": null,
   "id": "7ed1ed3c",
   "metadata": {},
   "outputs": [],
   "source": []
  },
  {
   "cell_type": "code",
   "execution_count": 1206,
   "id": "c32df17a",
   "metadata": {},
   "outputs": [
    {
     "ename": "NameError",
     "evalue": "name 'gc' is not defined",
     "output_type": "error",
     "traceback": [
      "\u001b[1;31m---------------------------------------------------------------------------\u001b[0m",
      "\u001b[1;31mNameError\u001b[0m                                 Traceback (most recent call last)",
      "\u001b[1;32m~\\AppData\\Local\\Temp\\ipykernel_19056\\2380472746.py\u001b[0m in \u001b[0;36m<module>\u001b[1;34m\u001b[0m\n\u001b[1;32m----> 1\u001b[1;33m \u001b[0mgc\u001b[0m\u001b[1;33m.\u001b[0m\u001b[0mcollect\u001b[0m\u001b[1;33m(\u001b[0m\u001b[1;33m)\u001b[0m\u001b[1;33m\u001b[0m\u001b[1;33m\u001b[0m\u001b[0m\n\u001b[0m\u001b[0;32m      2\u001b[0m \u001b[0mtorch\u001b[0m\u001b[1;33m.\u001b[0m\u001b[0mcuda\u001b[0m\u001b[1;33m.\u001b[0m\u001b[0mempty_cache\u001b[0m\u001b[1;33m(\u001b[0m\u001b[1;33m)\u001b[0m\u001b[1;33m\u001b[0m\u001b[1;33m\u001b[0m\u001b[0m\n\u001b[0;32m      3\u001b[0m \u001b[0mprint\u001b[0m\u001b[1;33m(\u001b[0m\u001b[0mnp\u001b[0m\u001b[1;33m.\u001b[0m\u001b[0mmean\u001b[0m\u001b[1;33m(\u001b[0m\u001b[0mavgtime\u001b[0m\u001b[1;33m)\u001b[0m\u001b[1;33m)\u001b[0m\u001b[1;33m\u001b[0m\u001b[1;33m\u001b[0m\u001b[0m\n",
      "\u001b[1;31mNameError\u001b[0m: name 'gc' is not defined"
     ]
    }
   ],
   "source": [
    "gc.collect()\n",
    "torch.cuda.empty_cache()"
   ]
  },
  {
   "cell_type": "code",
   "execution_count": null,
   "id": "a450e283",
   "metadata": {},
   "outputs": [],
   "source": []
  },
  {
   "cell_type": "code",
   "execution_count": null,
   "id": "ef928d76",
   "metadata": {},
   "outputs": [],
   "source": []
  },
  {
   "cell_type": "code",
   "execution_count": null,
   "id": "25ced5f8",
   "metadata": {},
   "outputs": [],
   "source": []
  },
  {
   "cell_type": "code",
   "execution_count": null,
   "id": "424b0b2c",
   "metadata": {},
   "outputs": [],
   "source": []
  },
  {
   "cell_type": "code",
   "execution_count": null,
   "id": "8999d8ee",
   "metadata": {},
   "outputs": [],
   "source": []
  },
  {
   "cell_type": "code",
   "execution_count": null,
   "id": "4a1cbb68",
   "metadata": {},
   "outputs": [],
   "source": []
  },
  {
   "cell_type": "markdown",
   "id": "3b490f6f",
   "metadata": {},
   "source": []
  },
  {
   "cell_type": "code",
   "execution_count": null,
   "id": "e5b85db2",
   "metadata": {},
   "outputs": [],
   "source": []
  },
  {
   "cell_type": "code",
   "execution_count": null,
   "id": "d871d8e2",
   "metadata": {},
   "outputs": [],
   "source": []
  },
  {
   "cell_type": "code",
   "execution_count": null,
   "id": "2c16d0bd",
   "metadata": {},
   "outputs": [],
   "source": []
  },
  {
   "cell_type": "code",
   "execution_count": null,
   "id": "e5a46a3e",
   "metadata": {},
   "outputs": [],
   "source": []
  },
  {
   "cell_type": "code",
   "execution_count": null,
   "id": "c4a37b9a",
   "metadata": {},
   "outputs": [],
   "source": []
  }
 ],
 "metadata": {
  "kernelspec": {
   "display_name": "Python 3 (ipykernel)",
   "language": "python",
   "name": "python3"
  },
  "language_info": {
   "codemirror_mode": {
    "name": "ipython",
    "version": 3
   },
   "file_extension": ".py",
   "mimetype": "text/x-python",
   "name": "python",
   "nbconvert_exporter": "python",
   "pygments_lexer": "ipython3",
   "version": "3.9.13"
  },
  "toc": {
   "base_numbering": 1,
   "nav_menu": {},
   "number_sections": true,
   "sideBar": true,
   "skip_h1_title": false,
   "title_cell": "Table of Contents",
   "title_sidebar": "Contents",
   "toc_cell": false,
   "toc_position": {
    "height": "calc(100% - 180px)",
    "left": "10px",
    "top": "150px",
    "width": "374.594px"
   },
   "toc_section_display": true,
   "toc_window_display": true
  }
 },
 "nbformat": 4,
 "nbformat_minor": 5
}
